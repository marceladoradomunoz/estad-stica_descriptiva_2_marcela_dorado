{
  "nbformat": 4,
  "nbformat_minor": 0,
  "metadata": {
    "colab": {
      "provenance": [],
      "collapsed_sections": [
        "TO-YjUV7UjZG",
        "i4aM3EmFvMqt",
        "NXDvFXKkvqeG",
        "h90z_NLlxeq8",
        "Q7eO93AMD1nF",
        "Uryb0FGWb9BA",
        "jenUhEU7ompX"
      ]
    },
    "kernelspec": {
      "name": "python3",
      "display_name": "Python 3"
    },
    "language_info": {
      "name": "python"
    }
  },
  "cells": [
    {
      "cell_type": "markdown",
      "source": [
        "# **IMPORTACIÓN DE ARCHIVO Y REVISIÓN DE DATOS**\n",
        "\n",
        "\n",
        "\n",
        "---\n",
        "\n"
      ],
      "metadata": {
        "id": "TO-YjUV7UjZG"
      }
    },
    {
      "cell_type": "code",
      "execution_count": null,
      "metadata": {
        "id": "cXjpMn7PS7pE"
      },
      "outputs": [],
      "source": [
        "#IMPORTACIÓN DE LIBRERÍAS\n",
        "\n",
        "import pandas as pd\n",
        "import numpy as np\n",
        "import math"
      ]
    },
    {
      "cell_type": "code",
      "source": [
        "#LECTURA DEL ARCHIVO\n",
        "\n",
        "df_worldcup_2014 = pd.read_csv('worldcup2014.csv')\n",
        "df_worldcup_2014.head(1)"
      ],
      "metadata": {
        "colab": {
          "base_uri": "https://localhost:8080/",
          "height": 100
        },
        "id": "u-XqwxsvS_wz",
        "outputId": "219214fb-9d16-45e2-868c-d1c74b704d4b"
      },
      "execution_count": null,
      "outputs": [
        {
          "output_type": "execute_result",
          "data": {
            "text/plain": [
              "     team     continent group  group_pos  cantidad_juegos  juegos_ganados  \\\n",
              "0  Brazil  southamerica     A          1                3               2   \n",
              "\n",
              "   juegos_empatados  juegos_perdidos  goles_favor  goles_contra  \\\n",
              "0                 1                0            7             2   \n",
              "\n",
              "  goles_diferencia  puntos  clasificado  \n",
              "0                5       7            1  "
            ],
            "text/html": [
              "\n",
              "  <div id=\"df-fd677687-14f3-4fd0-9861-7c0cccd5a09d\" class=\"colab-df-container\">\n",
              "    <div>\n",
              "<style scoped>\n",
              "    .dataframe tbody tr th:only-of-type {\n",
              "        vertical-align: middle;\n",
              "    }\n",
              "\n",
              "    .dataframe tbody tr th {\n",
              "        vertical-align: top;\n",
              "    }\n",
              "\n",
              "    .dataframe thead th {\n",
              "        text-align: right;\n",
              "    }\n",
              "</style>\n",
              "<table border=\"1\" class=\"dataframe\">\n",
              "  <thead>\n",
              "    <tr style=\"text-align: right;\">\n",
              "      <th></th>\n",
              "      <th>team</th>\n",
              "      <th>continent</th>\n",
              "      <th>group</th>\n",
              "      <th>group_pos</th>\n",
              "      <th>cantidad_juegos</th>\n",
              "      <th>juegos_ganados</th>\n",
              "      <th>juegos_empatados</th>\n",
              "      <th>juegos_perdidos</th>\n",
              "      <th>goles_favor</th>\n",
              "      <th>goles_contra</th>\n",
              "      <th>goles_diferencia</th>\n",
              "      <th>puntos</th>\n",
              "      <th>clasificado</th>\n",
              "    </tr>\n",
              "  </thead>\n",
              "  <tbody>\n",
              "    <tr>\n",
              "      <th>0</th>\n",
              "      <td>Brazil</td>\n",
              "      <td>southamerica</td>\n",
              "      <td>A</td>\n",
              "      <td>1</td>\n",
              "      <td>3</td>\n",
              "      <td>2</td>\n",
              "      <td>1</td>\n",
              "      <td>0</td>\n",
              "      <td>7</td>\n",
              "      <td>2</td>\n",
              "      <td>5</td>\n",
              "      <td>7</td>\n",
              "      <td>1</td>\n",
              "    </tr>\n",
              "  </tbody>\n",
              "</table>\n",
              "</div>\n",
              "    <div class=\"colab-df-buttons\">\n",
              "\n",
              "  <div class=\"colab-df-container\">\n",
              "    <button class=\"colab-df-convert\" onclick=\"convertToInteractive('df-fd677687-14f3-4fd0-9861-7c0cccd5a09d')\"\n",
              "            title=\"Convert this dataframe to an interactive table.\"\n",
              "            style=\"display:none;\">\n",
              "\n",
              "  <svg xmlns=\"http://www.w3.org/2000/svg\" height=\"24px\" viewBox=\"0 -960 960 960\">\n",
              "    <path d=\"M120-120v-720h720v720H120Zm60-500h600v-160H180v160Zm220 220h160v-160H400v160Zm0 220h160v-160H400v160ZM180-400h160v-160H180v160Zm440 0h160v-160H620v160ZM180-180h160v-160H180v160Zm440 0h160v-160H620v160Z\"/>\n",
              "  </svg>\n",
              "    </button>\n",
              "\n",
              "  <style>\n",
              "    .colab-df-container {\n",
              "      display:flex;\n",
              "      gap: 12px;\n",
              "    }\n",
              "\n",
              "    .colab-df-convert {\n",
              "      background-color: #E8F0FE;\n",
              "      border: none;\n",
              "      border-radius: 50%;\n",
              "      cursor: pointer;\n",
              "      display: none;\n",
              "      fill: #1967D2;\n",
              "      height: 32px;\n",
              "      padding: 0 0 0 0;\n",
              "      width: 32px;\n",
              "    }\n",
              "\n",
              "    .colab-df-convert:hover {\n",
              "      background-color: #E2EBFA;\n",
              "      box-shadow: 0px 1px 2px rgba(60, 64, 67, 0.3), 0px 1px 3px 1px rgba(60, 64, 67, 0.15);\n",
              "      fill: #174EA6;\n",
              "    }\n",
              "\n",
              "    .colab-df-buttons div {\n",
              "      margin-bottom: 4px;\n",
              "    }\n",
              "\n",
              "    [theme=dark] .colab-df-convert {\n",
              "      background-color: #3B4455;\n",
              "      fill: #D2E3FC;\n",
              "    }\n",
              "\n",
              "    [theme=dark] .colab-df-convert:hover {\n",
              "      background-color: #434B5C;\n",
              "      box-shadow: 0px 1px 3px 1px rgba(0, 0, 0, 0.15);\n",
              "      filter: drop-shadow(0px 1px 2px rgba(0, 0, 0, 0.3));\n",
              "      fill: #FFFFFF;\n",
              "    }\n",
              "  </style>\n",
              "\n",
              "    <script>\n",
              "      const buttonEl =\n",
              "        document.querySelector('#df-fd677687-14f3-4fd0-9861-7c0cccd5a09d button.colab-df-convert');\n",
              "      buttonEl.style.display =\n",
              "        google.colab.kernel.accessAllowed ? 'block' : 'none';\n",
              "\n",
              "      async function convertToInteractive(key) {\n",
              "        const element = document.querySelector('#df-fd677687-14f3-4fd0-9861-7c0cccd5a09d');\n",
              "        const dataTable =\n",
              "          await google.colab.kernel.invokeFunction('convertToInteractive',\n",
              "                                                    [key], {});\n",
              "        if (!dataTable) return;\n",
              "\n",
              "        const docLinkHtml = 'Like what you see? Visit the ' +\n",
              "          '<a target=\"_blank\" href=https://colab.research.google.com/notebooks/data_table.ipynb>data table notebook</a>'\n",
              "          + ' to learn more about interactive tables.';\n",
              "        element.innerHTML = '';\n",
              "        dataTable['output_type'] = 'display_data';\n",
              "        await google.colab.output.renderOutput(dataTable, element);\n",
              "        const docLink = document.createElement('div');\n",
              "        docLink.innerHTML = docLinkHtml;\n",
              "        element.appendChild(docLink);\n",
              "      }\n",
              "    </script>\n",
              "  </div>\n",
              "\n",
              "\n",
              "    </div>\n",
              "  </div>\n"
            ],
            "application/vnd.google.colaboratory.intrinsic+json": {
              "type": "dataframe",
              "variable_name": "df_worldcup_2014",
              "summary": "{\n  \"name\": \"df_worldcup_2014\",\n  \"rows\": 32,\n  \"fields\": [\n    {\n      \"column\": \"team\",\n      \"properties\": {\n        \"dtype\": \"string\",\n        \"num_unique_values\": 32,\n        \"samples\": [\n          \"Algeria\",\n          \"England\",\n          \"Germany\"\n        ],\n        \"semantic_type\": \"\",\n        \"description\": \"\"\n      }\n    },\n    {\n      \"column\": \"continent\",\n      \"properties\": {\n        \"dtype\": \"category\",\n        \"num_unique_values\": 5,\n        \"samples\": [\n          \"northamerica\",\n          \"asia\",\n          \"europe\"\n        ],\n        \"semantic_type\": \"\",\n        \"description\": \"\"\n      }\n    },\n    {\n      \"column\": \"group\",\n      \"properties\": {\n        \"dtype\": \"category\",\n        \"num_unique_values\": 8,\n        \"samples\": [\n          \"B\",\n          \"F\",\n          \"A\"\n        ],\n        \"semantic_type\": \"\",\n        \"description\": \"\"\n      }\n    },\n    {\n      \"column\": \"group_pos\",\n      \"properties\": {\n        \"dtype\": \"number\",\n        \"std\": 1,\n        \"min\": 1,\n        \"max\": 4,\n        \"num_unique_values\": 4,\n        \"samples\": [\n          2,\n          4,\n          1\n        ],\n        \"semantic_type\": \"\",\n        \"description\": \"\"\n      }\n    },\n    {\n      \"column\": \"cantidad_juegos\",\n      \"properties\": {\n        \"dtype\": \"number\",\n        \"std\": 0,\n        \"min\": 3,\n        \"max\": 3,\n        \"num_unique_values\": 1,\n        \"samples\": [\n          3\n        ],\n        \"semantic_type\": \"\",\n        \"description\": \"\"\n      }\n    },\n    {\n      \"column\": \"juegos_ganados\",\n      \"properties\": {\n        \"dtype\": \"number\",\n        \"std\": 1,\n        \"min\": 0,\n        \"max\": 3,\n        \"num_unique_values\": 4,\n        \"samples\": [\n          1\n        ],\n        \"semantic_type\": \"\",\n        \"description\": \"\"\n      }\n    },\n    {\n      \"column\": \"juegos_empatados\",\n      \"properties\": {\n        \"dtype\": \"number\",\n        \"std\": 0,\n        \"min\": 0,\n        \"max\": 2,\n        \"num_unique_values\": 3,\n        \"samples\": [\n          1\n        ],\n        \"semantic_type\": \"\",\n        \"description\": \"\"\n      }\n    },\n    {\n      \"column\": \"juegos_perdidos\",\n      \"properties\": {\n        \"dtype\": \"number\",\n        \"std\": 0,\n        \"min\": 0,\n        \"max\": 3,\n        \"num_unique_values\": 4,\n        \"samples\": [\n          2\n        ],\n        \"semantic_type\": \"\",\n        \"description\": \"\"\n      }\n    },\n    {\n      \"column\": \"goles_favor\",\n      \"properties\": {\n        \"dtype\": \"number\",\n        \"std\": 2,\n        \"min\": 1,\n        \"max\": 10,\n        \"num_unique_values\": 10,\n        \"samples\": [\n          2\n        ],\n        \"semantic_type\": \"\",\n        \"description\": \"\"\n      }\n    },\n    {\n      \"column\": \"goles_contra\",\n      \"properties\": {\n        \"dtype\": \"number\",\n        \"std\": 2,\n        \"min\": 1,\n        \"max\": 9,\n        \"num_unique_values\": 9,\n        \"samples\": [\n          5\n        ],\n        \"semantic_type\": \"\",\n        \"description\": \"\"\n      }\n    },\n    {\n      \"column\": \"goles_diferencia\",\n      \"properties\": {\n        \"dtype\": \"category\",\n        \"num_unique_values\": 14,\n        \"samples\": [\n          \"\\u22121\"\n        ],\n        \"semantic_type\": \"\",\n        \"description\": \"\"\n      }\n    },\n    {\n      \"column\": \"puntos\",\n      \"properties\": {\n        \"dtype\": \"number\",\n        \"std\": 2,\n        \"min\": 0,\n        \"max\": 9,\n        \"num_unique_values\": 8,\n        \"samples\": [\n          3\n        ],\n        \"semantic_type\": \"\",\n        \"description\": \"\"\n      }\n    },\n    {\n      \"column\": \"clasificado\",\n      \"properties\": {\n        \"dtype\": \"number\",\n        \"std\": 0,\n        \"min\": 0,\n        \"max\": 1,\n        \"num_unique_values\": 2,\n        \"samples\": [\n          0\n        ],\n        \"semantic_type\": \"\",\n        \"description\": \"\"\n      }\n    }\n  ]\n}"
            }
          },
          "metadata": {},
          "execution_count": 173
        }
      ]
    },
    {
      "cell_type": "code",
      "source": [
        "df_worldcup_2014.shape"
      ],
      "metadata": {
        "colab": {
          "base_uri": "https://localhost:8080/"
        },
        "id": "ztPKg60ifKgd",
        "outputId": "4ddf41e1-1de9-4293-9ebe-4a419f1d9315"
      },
      "execution_count": null,
      "outputs": [
        {
          "output_type": "execute_result",
          "data": {
            "text/plain": [
              "(32, 13)"
            ]
          },
          "metadata": {},
          "execution_count": 127
        }
      ]
    },
    {
      "cell_type": "code",
      "source": [
        "df_worldcup_2014.info()\n"
      ],
      "metadata": {
        "colab": {
          "base_uri": "https://localhost:8080/"
        },
        "id": "0crqj2ODYo-b",
        "outputId": "423bb9d6-4e0c-4356-da21-79ce29c932d8"
      },
      "execution_count": null,
      "outputs": [
        {
          "output_type": "stream",
          "name": "stdout",
          "text": [
            "<class 'pandas.core.frame.DataFrame'>\n",
            "RangeIndex: 32 entries, 0 to 31\n",
            "Data columns (total 13 columns):\n",
            " #   Column            Non-Null Count  Dtype \n",
            "---  ------            --------------  ----- \n",
            " 0   team              32 non-null     object\n",
            " 1   continent         32 non-null     object\n",
            " 2   group             32 non-null     object\n",
            " 3   group_pos         32 non-null     int64 \n",
            " 4   cantidad_juegos   32 non-null     int64 \n",
            " 5   juegos_ganados    32 non-null     int64 \n",
            " 6   juegos_empatados  32 non-null     int64 \n",
            " 7   juegos_perdidos   32 non-null     int64 \n",
            " 8   goles_favor       32 non-null     int64 \n",
            " 9   goles_contra      32 non-null     int64 \n",
            " 10  goles_diferencia  32 non-null     object\n",
            " 11  puntos            32 non-null     int64 \n",
            " 12  clasificado       32 non-null     int64 \n",
            "dtypes: int64(9), object(4)\n",
            "memory usage: 3.4+ KB\n"
          ]
        }
      ]
    },
    {
      "cell_type": "code",
      "source": [
        "df_worldcup_2014.isnull().count()"
      ],
      "metadata": {
        "colab": {
          "base_uri": "https://localhost:8080/"
        },
        "id": "bjBsyXZhgD6H",
        "outputId": "4342c1c9-0280-41ca-e9a0-9a2e6a19012c"
      },
      "execution_count": null,
      "outputs": [
        {
          "output_type": "execute_result",
          "data": {
            "text/plain": [
              "team                32\n",
              "continent           32\n",
              "group               32\n",
              "group_pos           32\n",
              "cantidad_juegos     32\n",
              "juegos_ganados      32\n",
              "juegos_empatados    32\n",
              "juegos_perdidos     32\n",
              "goles_favor         32\n",
              "goles_contra        32\n",
              "goles_diferencia    32\n",
              "puntos              32\n",
              "clasificado         32\n",
              "dtype: int64"
            ]
          },
          "metadata": {},
          "execution_count": 134
        }
      ]
    },
    {
      "cell_type": "code",
      "source": [
        "df_worldcup_2014.isnull().sum()\n"
      ],
      "metadata": {
        "colab": {
          "base_uri": "https://localhost:8080/"
        },
        "id": "dALOmVOzfi2Y",
        "outputId": "b8ba03f5-c56a-423f-f8c2-09e8fc9ca860"
      },
      "execution_count": null,
      "outputs": [
        {
          "output_type": "execute_result",
          "data": {
            "text/plain": [
              "team                0\n",
              "continent           0\n",
              "group               0\n",
              "group_pos           0\n",
              "cantidad_juegos     0\n",
              "juegos_ganados      0\n",
              "juegos_empatados    0\n",
              "juegos_perdidos     0\n",
              "goles_favor         0\n",
              "goles_contra        0\n",
              "goles_diferencia    0\n",
              "puntos              0\n",
              "clasificado         0\n",
              "dtype: int64"
            ]
          },
          "metadata": {},
          "execution_count": 133
        }
      ]
    },
    {
      "cell_type": "markdown",
      "source": [
        "# **PROBABILIDAD DE QUE UN EQUIPO PERTENEZCA A UN DETERMINADO CONTINENTE**\n",
        "\n",
        "\n",
        "\n",
        "\n",
        "---\n",
        "\n",
        "\n",
        "\n",
        "\n",
        "\n"
      ],
      "metadata": {
        "id": "i4aM3EmFvMqt"
      }
    },
    {
      "cell_type": "code",
      "source": [
        "#REVISIÓN VALORES DE EQUIPOS EN CADA CONTINENTE\n",
        "\n",
        "casos = df_worldcup_2014['continent'].value_counts().to_frame()\n",
        "casos"
      ],
      "metadata": {
        "colab": {
          "base_uri": "https://localhost:8080/",
          "height": 216
        },
        "id": "qIfSFmhpS_0_",
        "outputId": "8ff7d851-22d1-4b68-fcfb-8a9cd9cf9790"
      },
      "execution_count": null,
      "outputs": [
        {
          "output_type": "error",
          "ename": "NameError",
          "evalue": "name 'df_worldcup_2014' is not defined",
          "traceback": [
            "\u001b[0;31m---------------------------------------------------------------------------\u001b[0m",
            "\u001b[0;31mNameError\u001b[0m                                 Traceback (most recent call last)",
            "\u001b[0;32m<ipython-input-1-026c725ef661>\u001b[0m in \u001b[0;36m<cell line: 3>\u001b[0;34m()\u001b[0m\n\u001b[1;32m      1\u001b[0m \u001b[0;31m#REVISIÓN VALORES DE EQUIPOS EN CADA CONTINENTE\u001b[0m\u001b[0;34m\u001b[0m\u001b[0;34m\u001b[0m\u001b[0m\n\u001b[1;32m      2\u001b[0m \u001b[0;34m\u001b[0m\u001b[0m\n\u001b[0;32m----> 3\u001b[0;31m \u001b[0mcasos\u001b[0m \u001b[0;34m=\u001b[0m \u001b[0mdf_worldcup_2014\u001b[0m\u001b[0;34m[\u001b[0m\u001b[0;34m'continent'\u001b[0m\u001b[0;34m]\u001b[0m\u001b[0;34m.\u001b[0m\u001b[0mvalue_counts\u001b[0m\u001b[0;34m(\u001b[0m\u001b[0;34m)\u001b[0m\u001b[0;31m#.to_frame()\u001b[0m\u001b[0;34m\u001b[0m\u001b[0;34m\u001b[0m\u001b[0m\n\u001b[0m\u001b[1;32m      4\u001b[0m \u001b[0mcasos\u001b[0m\u001b[0;34m\u001b[0m\u001b[0;34m\u001b[0m\u001b[0m\n",
            "\u001b[0;31mNameError\u001b[0m: name 'df_worldcup_2014' is not defined"
          ]
        }
      ]
    },
    {
      "cell_type": "code",
      "source": [
        "#PREGUNTA 1 LETRA A) = PROBABILIDAD DE PERTENECER A ÁFRICA\n",
        "\n",
        "total = df_worldcup_2014.shape[0]\n",
        "condicion_pert_af = df_worldcup_2014[df_worldcup_2014['continent'] == 'africa'].shape[0]\n",
        "prob_pert_af = condicion_pert_af/total\n",
        "print(f\"La probabilidad de que un equipo provenga de África es de: {prob_pert_af} %\")"
      ],
      "metadata": {
        "colab": {
          "base_uri": "https://localhost:8080/"
        },
        "id": "7apDmoqvYjgt",
        "outputId": "17981675-0bf5-4106-a04e-34a9a596abad"
      },
      "execution_count": null,
      "outputs": [
        {
          "output_type": "stream",
          "name": "stdout",
          "text": [
            "La probabilidad de que un equipo provenga de África es de: 0.15625 %\n"
          ]
        }
      ]
    },
    {
      "cell_type": "code",
      "source": [
        "#PREGUNTA 1 LETRA B) = PROBABILIDAD DE PERTENECER A ASIA\n",
        "\n",
        "total = df_worldcup_2014.shape[0]\n",
        "condicion_pert_as = df_worldcup_2014[df_worldcup_2014['continent'] == 'asia'].shape[0]\n",
        "prob_pert_as = condicion_pert_as/total\n",
        "print(f\"La probabilidad de que un equipo provenga de Asia es de: {prob_pert_as} %\")"
      ],
      "metadata": {
        "colab": {
          "base_uri": "https://localhost:8080/"
        },
        "id": "jrYBro3_t1LS",
        "outputId": "aa12f124-08c9-46fc-86da-cbc09c94f511"
      },
      "execution_count": null,
      "outputs": [
        {
          "output_type": "stream",
          "name": "stdout",
          "text": [
            "La probabilidad de que un equipo provenga de Asia es de: 0.125 %\n"
          ]
        }
      ]
    },
    {
      "cell_type": "code",
      "source": [
        "#PREGUNTA 1 LETRA C) = PROBABILIDAD DE PERTENECER A EUROPA\n",
        "\n",
        "total = df_worldcup_2014.shape[0]\n",
        "pert_eu = df_worldcup_2014[df_worldcup_2014['continent'] == 'europe'].shape[0]\n",
        "prob_pert_eu = pert_eu/total\n",
        "print(f\"La probabilidad de que un equipo provenga de Europa es de: {prob_pert_eu} %\")"
      ],
      "metadata": {
        "colab": {
          "base_uri": "https://localhost:8080/"
        },
        "id": "bwUenrR5uNta",
        "outputId": "bd878022-1b27-4f19-a61a-00e0ff738819"
      },
      "execution_count": null,
      "outputs": [
        {
          "output_type": "stream",
          "name": "stdout",
          "text": [
            "La probabilidad de que un equipo provenga de Europa es de: 0.40625 %\n"
          ]
        }
      ]
    },
    {
      "cell_type": "code",
      "source": [
        "#PREGUNTA 1 LETRA D) = PROBABILIDAD DE PERTENECER A NORTEAMÉRICA\n",
        "\n",
        "total = df_worldcup_2014.shape[0]\n",
        "condicion_pert_nort = df_worldcup_2014[df_worldcup_2014['continent'] == 'northamerica'].shape[0]\n",
        "prob_pert_nort = condicion_pert_nort/total\n",
        "print(f\"La probabilidad de que un equipo provenga de Norteamérica es de: {prob_pert_nort} %\")"
      ],
      "metadata": {
        "colab": {
          "base_uri": "https://localhost:8080/"
        },
        "id": "tmDqYn_EuR4q",
        "outputId": "f87b70f6-94c4-49a6-cbae-12fb27ad01f6"
      },
      "execution_count": null,
      "outputs": [
        {
          "output_type": "stream",
          "name": "stdout",
          "text": [
            "La probabilidad de que un equipo provenga de Norteamérica es de: 0.125 %\n"
          ]
        }
      ]
    },
    {
      "cell_type": "code",
      "source": [
        "#PREGUNTA 1 LETRA E) = PROBABILIDAD DE PERTENECER A SUDAMÉRICA\n",
        "\n",
        "total = df_worldcup_2014.shape[0]\n",
        "condicion_pert_south = df_worldcup_2014[df_worldcup_2014['continent'] == 'southamerica'].shape[0]\n",
        "prob_pert_south = condicion_pert_south/total\n",
        "print(f\"La probabilidad de que un equipo provenga de Sudamérica es de: {prob_pert_south} %\")"
      ],
      "metadata": {
        "colab": {
          "base_uri": "https://localhost:8080/"
        },
        "id": "--WQ6uUAuVml",
        "outputId": "3505255c-bba4-402b-ee3e-209929a87a55"
      },
      "execution_count": null,
      "outputs": [
        {
          "output_type": "stream",
          "name": "stdout",
          "text": [
            "La probabilidad de que un equipo provenga de Sudamérica es de: 0.1875 %\n"
          ]
        }
      ]
    },
    {
      "cell_type": "markdown",
      "source": [],
      "metadata": {
        "id": "zVRmIT_3voBk"
      }
    },
    {
      "cell_type": "markdown",
      "source": [
        "# **PROBABILIDAD DE UN EQUIPO DETERMINADO DE  PASAR A SEGUNDA RONDA O DE GANAR ALGÚN PARTIDO**\n",
        "\n",
        "\n",
        "---\n",
        "\n"
      ],
      "metadata": {
        "id": "NXDvFXKkvqeG"
      }
    },
    {
      "cell_type": "code",
      "source": [
        "#PREGUNTA 1 LETRA F): PROBABILIDAD DE CLASIFICAR A SEGUNDA RONDA (FUNCIÓN SHAPE)\n",
        "\n",
        "total_registros = df_worldcup_2014.shape[0]\n",
        "casos_clasificados = pd.DataFrame(df_worldcup_2014[df_worldcup_2014['clasificado'] >= 1])\n",
        "prob_clas = casos_clasificados.shape[0] / total_registros\n",
        "print(f\"La probabilidad de que un equipo clasifique a segunda ronda es de: {prob_clas} %\")"
      ],
      "metadata": {
        "colab": {
          "base_uri": "https://localhost:8080/"
        },
        "id": "C052m_yBv7OS",
        "outputId": "7d942900-1b91-461e-d43f-ebcb8847d8da"
      },
      "execution_count": null,
      "outputs": [
        {
          "output_type": "stream",
          "name": "stdout",
          "text": [
            "La probabilidad de que un equipo clasifique a segunda ronda es de: 0.5 %\n"
          ]
        }
      ]
    },
    {
      "cell_type": "code",
      "source": [
        "#PREGUNTA 1 LETRA F): PROBABILIDAD DE CLASIFICAR A SEGUNDA RONDA (USO DE OTRAS FUNCIONES)\n",
        "\n",
        "#total = df_worldcup_2014.shape\n",
        "#casos = df_worldcup_2014[df_worldcup_2014['clasificado'] >=1]\n",
        "#prob_clasif = len(casos) / total[0]\n",
        "#print(f\"La probabilidad de que un equipo clasifique a segunda ronda es de: {prob_clasif} %\")\n",
        "\n",
        "#total = df_worldcup_2014.shape[0]\n",
        "#condicion = df_worldcup_2014['clasificado'] >= 1\n",
        "#prob_clasific = condicion.sum() / total\n",
        "#print(f\"La probabilidad de que un equipo clasifique a segunda es de: {prob_clasific} %\")"
      ],
      "metadata": {
        "colab": {
          "base_uri": "https://localhost:8080/"
        },
        "id": "Q_81hgYSwNi3",
        "outputId": "f1716991-b8dd-4ebb-cb49-a3f6ca6aa7ed"
      },
      "execution_count": null,
      "outputs": [
        {
          "output_type": "stream",
          "name": "stdout",
          "text": [
            "La probabilidad de que un equipo clasifique a segunda ronda es de: 0.5 %\n",
            "La probabilidad de que un equipo clasifique a segunda es de: 0.5 %\n"
          ]
        }
      ]
    },
    {
      "cell_type": "code",
      "source": [
        "#PREGUNTA 1 LETRA G): PROBABILIDAD DE GANAR AL MENOS UN PARTIDO (FUNCIÓN SHAPE)\n",
        "\n",
        "total_registros = df_worldcup_2014.shape[0]\n",
        "condicion = pd.DataFrame(df_worldcup_2014[df_worldcup_2014['juegos_ganados'] >= 1])\n",
        "prob_win = condicion.shape[0]/total_registros\n",
        "print(f\"La probabilidad de que un equipo gane a lo menos un partido es de: {prob_win} %\")"
      ],
      "metadata": {
        "colab": {
          "base_uri": "https://localhost:8080/"
        },
        "id": "IexJMwjPwvh7",
        "outputId": "020e7c8c-f848-4b49-8bb9-d836d7bd3465"
      },
      "execution_count": null,
      "outputs": [
        {
          "output_type": "stream",
          "name": "stdout",
          "text": [
            "La probabilidad de que un equipo gane a lo menos un partido es de: 0.71875 %\n"
          ]
        }
      ]
    },
    {
      "cell_type": "code",
      "source": [
        "#PREGUNTA 1 LETRA G): PROBABILIDAD DE GANAR AL MENOS UN PARTIDO (USO DE OTRAS FUNCIOES)\n",
        "\n",
        "#total_reg = df_worldcup_2014.shape\n",
        "#cond = pd.DataFrame(df_worldcup_2014[df_worldcup_2014['juegos_ganados'] >= 1])\n",
        "#probabilidad = len(cond) / total_reg[0]\n",
        "#print(f\"La probabilidad de que un equipo gane a lo menos un partido es de: {probabilidad} %\")\n",
        "\n",
        "#PREGUNTA 1 LETRA G): PROBABILIDAD DE GANAR AL MENOS UN PARTIDO (OTRA OPCIÓN DE CÁLCULO)\n",
        "\n",
        "#total = df_worldcup_2014.shape\n",
        "#casos = pd.DataFrame(df_worldcup_2014[df_worldcup_2014['juegos_ganados'] >= 1])\n",
        "#prob = (len(casos) / total[0])\n",
        "#print(f\"La probabilidad de que un equipo gane a lo menos un partido es de: {prob} %\")"
      ],
      "metadata": {
        "colab": {
          "base_uri": "https://localhost:8080/"
        },
        "id": "t-Ymt_4ow0zp",
        "outputId": "aedddd92-587c-4c7e-c96b-628916e03187"
      },
      "execution_count": null,
      "outputs": [
        {
          "output_type": "stream",
          "name": "stdout",
          "text": [
            "La probabilidad de que un equipo gane a lo menos un partido es de: 0.71875 %\n",
            "La probabilidad de que un equipo gane a lo menos un partido es de: 0.71875 %\n"
          ]
        }
      ]
    },
    {
      "cell_type": "markdown",
      "source": [
        "# **PROBABILIDAD DE PERTENECER A UN DETERMINADO CONTINENTE Y CLASIFICAR A SEGUNDA RONDA**\n",
        "\n",
        "\n",
        "\n",
        "---\n",
        "\n"
      ],
      "metadata": {
        "id": "h90z_NLlxeq8"
      }
    },
    {
      "cell_type": "code",
      "source": [
        "#REVISIÓN VALORES CONTINENTES QUE CLASIFICARON O NO A SEGUNDA RONDA\n",
        "\n",
        "round = df_worldcup_2014[['continent', 'clasificado']].value_counts().to_frame()\n",
        "round"
      ],
      "metadata": {
        "colab": {
          "base_uri": "https://localhost:8080/",
          "height": 359
        },
        "id": "ojeKL-PKxzBK",
        "outputId": "887d601d-80b6-4340-f203-af62386f6018"
      },
      "execution_count": null,
      "outputs": [
        {
          "output_type": "execute_result",
          "data": {
            "text/plain": [
              "                          0\n",
              "continent    clasificado   \n",
              "europe       0            7\n",
              "             1            6\n",
              "southamerica 1            5\n",
              "asia         0            4\n",
              "africa       0            3\n",
              "northamerica 1            3\n",
              "africa       1            2\n",
              "northamerica 0            1\n",
              "southamerica 0            1"
            ],
            "text/html": [
              "\n",
              "  <div id=\"df-f5e8948c-4823-4eb4-9453-548c87398601\" class=\"colab-df-container\">\n",
              "    <div>\n",
              "<style scoped>\n",
              "    .dataframe tbody tr th:only-of-type {\n",
              "        vertical-align: middle;\n",
              "    }\n",
              "\n",
              "    .dataframe tbody tr th {\n",
              "        vertical-align: top;\n",
              "    }\n",
              "\n",
              "    .dataframe thead th {\n",
              "        text-align: right;\n",
              "    }\n",
              "</style>\n",
              "<table border=\"1\" class=\"dataframe\">\n",
              "  <thead>\n",
              "    <tr style=\"text-align: right;\">\n",
              "      <th></th>\n",
              "      <th></th>\n",
              "      <th>0</th>\n",
              "    </tr>\n",
              "    <tr>\n",
              "      <th>continent</th>\n",
              "      <th>clasificado</th>\n",
              "      <th></th>\n",
              "    </tr>\n",
              "  </thead>\n",
              "  <tbody>\n",
              "    <tr>\n",
              "      <th rowspan=\"2\" valign=\"top\">europe</th>\n",
              "      <th>0</th>\n",
              "      <td>7</td>\n",
              "    </tr>\n",
              "    <tr>\n",
              "      <th>1</th>\n",
              "      <td>6</td>\n",
              "    </tr>\n",
              "    <tr>\n",
              "      <th>southamerica</th>\n",
              "      <th>1</th>\n",
              "      <td>5</td>\n",
              "    </tr>\n",
              "    <tr>\n",
              "      <th>asia</th>\n",
              "      <th>0</th>\n",
              "      <td>4</td>\n",
              "    </tr>\n",
              "    <tr>\n",
              "      <th>africa</th>\n",
              "      <th>0</th>\n",
              "      <td>3</td>\n",
              "    </tr>\n",
              "    <tr>\n",
              "      <th>northamerica</th>\n",
              "      <th>1</th>\n",
              "      <td>3</td>\n",
              "    </tr>\n",
              "    <tr>\n",
              "      <th>africa</th>\n",
              "      <th>1</th>\n",
              "      <td>2</td>\n",
              "    </tr>\n",
              "    <tr>\n",
              "      <th>northamerica</th>\n",
              "      <th>0</th>\n",
              "      <td>1</td>\n",
              "    </tr>\n",
              "    <tr>\n",
              "      <th>southamerica</th>\n",
              "      <th>0</th>\n",
              "      <td>1</td>\n",
              "    </tr>\n",
              "  </tbody>\n",
              "</table>\n",
              "</div>\n",
              "    <div class=\"colab-df-buttons\">\n",
              "\n",
              "  <div class=\"colab-df-container\">\n",
              "    <button class=\"colab-df-convert\" onclick=\"convertToInteractive('df-f5e8948c-4823-4eb4-9453-548c87398601')\"\n",
              "            title=\"Convert this dataframe to an interactive table.\"\n",
              "            style=\"display:none;\">\n",
              "\n",
              "  <svg xmlns=\"http://www.w3.org/2000/svg\" height=\"24px\" viewBox=\"0 -960 960 960\">\n",
              "    <path d=\"M120-120v-720h720v720H120Zm60-500h600v-160H180v160Zm220 220h160v-160H400v160Zm0 220h160v-160H400v160ZM180-400h160v-160H180v160Zm440 0h160v-160H620v160ZM180-180h160v-160H180v160Zm440 0h160v-160H620v160Z\"/>\n",
              "  </svg>\n",
              "    </button>\n",
              "\n",
              "  <style>\n",
              "    .colab-df-container {\n",
              "      display:flex;\n",
              "      gap: 12px;\n",
              "    }\n",
              "\n",
              "    .colab-df-convert {\n",
              "      background-color: #E8F0FE;\n",
              "      border: none;\n",
              "      border-radius: 50%;\n",
              "      cursor: pointer;\n",
              "      display: none;\n",
              "      fill: #1967D2;\n",
              "      height: 32px;\n",
              "      padding: 0 0 0 0;\n",
              "      width: 32px;\n",
              "    }\n",
              "\n",
              "    .colab-df-convert:hover {\n",
              "      background-color: #E2EBFA;\n",
              "      box-shadow: 0px 1px 2px rgba(60, 64, 67, 0.3), 0px 1px 3px 1px rgba(60, 64, 67, 0.15);\n",
              "      fill: #174EA6;\n",
              "    }\n",
              "\n",
              "    .colab-df-buttons div {\n",
              "      margin-bottom: 4px;\n",
              "    }\n",
              "\n",
              "    [theme=dark] .colab-df-convert {\n",
              "      background-color: #3B4455;\n",
              "      fill: #D2E3FC;\n",
              "    }\n",
              "\n",
              "    [theme=dark] .colab-df-convert:hover {\n",
              "      background-color: #434B5C;\n",
              "      box-shadow: 0px 1px 3px 1px rgba(0, 0, 0, 0.15);\n",
              "      filter: drop-shadow(0px 1px 2px rgba(0, 0, 0, 0.3));\n",
              "      fill: #FFFFFF;\n",
              "    }\n",
              "  </style>\n",
              "\n",
              "    <script>\n",
              "      const buttonEl =\n",
              "        document.querySelector('#df-f5e8948c-4823-4eb4-9453-548c87398601 button.colab-df-convert');\n",
              "      buttonEl.style.display =\n",
              "        google.colab.kernel.accessAllowed ? 'block' : 'none';\n",
              "\n",
              "      async function convertToInteractive(key) {\n",
              "        const element = document.querySelector('#df-f5e8948c-4823-4eb4-9453-548c87398601');\n",
              "        const dataTable =\n",
              "          await google.colab.kernel.invokeFunction('convertToInteractive',\n",
              "                                                    [key], {});\n",
              "        if (!dataTable) return;\n",
              "\n",
              "        const docLinkHtml = 'Like what you see? Visit the ' +\n",
              "          '<a target=\"_blank\" href=https://colab.research.google.com/notebooks/data_table.ipynb>data table notebook</a>'\n",
              "          + ' to learn more about interactive tables.';\n",
              "        element.innerHTML = '';\n",
              "        dataTable['output_type'] = 'display_data';\n",
              "        await google.colab.output.renderOutput(dataTable, element);\n",
              "        const docLink = document.createElement('div');\n",
              "        docLink.innerHTML = docLinkHtml;\n",
              "        element.appendChild(docLink);\n",
              "      }\n",
              "    </script>\n",
              "  </div>\n",
              "\n",
              "\n",
              "<div id=\"df-61491d7b-1fcd-4b9f-926e-22a0e81c146b\">\n",
              "  <button class=\"colab-df-quickchart\" onclick=\"quickchart('df-61491d7b-1fcd-4b9f-926e-22a0e81c146b')\"\n",
              "            title=\"Suggest charts\"\n",
              "            style=\"display:none;\">\n",
              "\n",
              "<svg xmlns=\"http://www.w3.org/2000/svg\" height=\"24px\"viewBox=\"0 0 24 24\"\n",
              "     width=\"24px\">\n",
              "    <g>\n",
              "        <path d=\"M19 3H5c-1.1 0-2 .9-2 2v14c0 1.1.9 2 2 2h14c1.1 0 2-.9 2-2V5c0-1.1-.9-2-2-2zM9 17H7v-7h2v7zm4 0h-2V7h2v10zm4 0h-2v-4h2v4z\"/>\n",
              "    </g>\n",
              "</svg>\n",
              "  </button>\n",
              "\n",
              "<style>\n",
              "  .colab-df-quickchart {\n",
              "      --bg-color: #E8F0FE;\n",
              "      --fill-color: #1967D2;\n",
              "      --hover-bg-color: #E2EBFA;\n",
              "      --hover-fill-color: #174EA6;\n",
              "      --disabled-fill-color: #AAA;\n",
              "      --disabled-bg-color: #DDD;\n",
              "  }\n",
              "\n",
              "  [theme=dark] .colab-df-quickchart {\n",
              "      --bg-color: #3B4455;\n",
              "      --fill-color: #D2E3FC;\n",
              "      --hover-bg-color: #434B5C;\n",
              "      --hover-fill-color: #FFFFFF;\n",
              "      --disabled-bg-color: #3B4455;\n",
              "      --disabled-fill-color: #666;\n",
              "  }\n",
              "\n",
              "  .colab-df-quickchart {\n",
              "    background-color: var(--bg-color);\n",
              "    border: none;\n",
              "    border-radius: 50%;\n",
              "    cursor: pointer;\n",
              "    display: none;\n",
              "    fill: var(--fill-color);\n",
              "    height: 32px;\n",
              "    padding: 0;\n",
              "    width: 32px;\n",
              "  }\n",
              "\n",
              "  .colab-df-quickchart:hover {\n",
              "    background-color: var(--hover-bg-color);\n",
              "    box-shadow: 0 1px 2px rgba(60, 64, 67, 0.3), 0 1px 3px 1px rgba(60, 64, 67, 0.15);\n",
              "    fill: var(--button-hover-fill-color);\n",
              "  }\n",
              "\n",
              "  .colab-df-quickchart-complete:disabled,\n",
              "  .colab-df-quickchart-complete:disabled:hover {\n",
              "    background-color: var(--disabled-bg-color);\n",
              "    fill: var(--disabled-fill-color);\n",
              "    box-shadow: none;\n",
              "  }\n",
              "\n",
              "  .colab-df-spinner {\n",
              "    border: 2px solid var(--fill-color);\n",
              "    border-color: transparent;\n",
              "    border-bottom-color: var(--fill-color);\n",
              "    animation:\n",
              "      spin 1s steps(1) infinite;\n",
              "  }\n",
              "\n",
              "  @keyframes spin {\n",
              "    0% {\n",
              "      border-color: transparent;\n",
              "      border-bottom-color: var(--fill-color);\n",
              "      border-left-color: var(--fill-color);\n",
              "    }\n",
              "    20% {\n",
              "      border-color: transparent;\n",
              "      border-left-color: var(--fill-color);\n",
              "      border-top-color: var(--fill-color);\n",
              "    }\n",
              "    30% {\n",
              "      border-color: transparent;\n",
              "      border-left-color: var(--fill-color);\n",
              "      border-top-color: var(--fill-color);\n",
              "      border-right-color: var(--fill-color);\n",
              "    }\n",
              "    40% {\n",
              "      border-color: transparent;\n",
              "      border-right-color: var(--fill-color);\n",
              "      border-top-color: var(--fill-color);\n",
              "    }\n",
              "    60% {\n",
              "      border-color: transparent;\n",
              "      border-right-color: var(--fill-color);\n",
              "    }\n",
              "    80% {\n",
              "      border-color: transparent;\n",
              "      border-right-color: var(--fill-color);\n",
              "      border-bottom-color: var(--fill-color);\n",
              "    }\n",
              "    90% {\n",
              "      border-color: transparent;\n",
              "      border-bottom-color: var(--fill-color);\n",
              "    }\n",
              "  }\n",
              "</style>\n",
              "\n",
              "  <script>\n",
              "    async function quickchart(key) {\n",
              "      const quickchartButtonEl =\n",
              "        document.querySelector('#' + key + ' button');\n",
              "      quickchartButtonEl.disabled = true;  // To prevent multiple clicks.\n",
              "      quickchartButtonEl.classList.add('colab-df-spinner');\n",
              "      try {\n",
              "        const charts = await google.colab.kernel.invokeFunction(\n",
              "            'suggestCharts', [key], {});\n",
              "      } catch (error) {\n",
              "        console.error('Error during call to suggestCharts:', error);\n",
              "      }\n",
              "      quickchartButtonEl.classList.remove('colab-df-spinner');\n",
              "      quickchartButtonEl.classList.add('colab-df-quickchart-complete');\n",
              "    }\n",
              "    (() => {\n",
              "      let quickchartButtonEl =\n",
              "        document.querySelector('#df-61491d7b-1fcd-4b9f-926e-22a0e81c146b button');\n",
              "      quickchartButtonEl.style.display =\n",
              "        google.colab.kernel.accessAllowed ? 'block' : 'none';\n",
              "    })();\n",
              "  </script>\n",
              "</div>\n",
              "\n",
              "  <div id=\"id_3961f6a6-4c96-4c32-beb5-8cf539c19f26\">\n",
              "    <style>\n",
              "      .colab-df-generate {\n",
              "        background-color: #E8F0FE;\n",
              "        border: none;\n",
              "        border-radius: 50%;\n",
              "        cursor: pointer;\n",
              "        display: none;\n",
              "        fill: #1967D2;\n",
              "        height: 32px;\n",
              "        padding: 0 0 0 0;\n",
              "        width: 32px;\n",
              "      }\n",
              "\n",
              "      .colab-df-generate:hover {\n",
              "        background-color: #E2EBFA;\n",
              "        box-shadow: 0px 1px 2px rgba(60, 64, 67, 0.3), 0px 1px 3px 1px rgba(60, 64, 67, 0.15);\n",
              "        fill: #174EA6;\n",
              "      }\n",
              "\n",
              "      [theme=dark] .colab-df-generate {\n",
              "        background-color: #3B4455;\n",
              "        fill: #D2E3FC;\n",
              "      }\n",
              "\n",
              "      [theme=dark] .colab-df-generate:hover {\n",
              "        background-color: #434B5C;\n",
              "        box-shadow: 0px 1px 3px 1px rgba(0, 0, 0, 0.15);\n",
              "        filter: drop-shadow(0px 1px 2px rgba(0, 0, 0, 0.3));\n",
              "        fill: #FFFFFF;\n",
              "      }\n",
              "    </style>\n",
              "    <button class=\"colab-df-generate\" onclick=\"generateWithVariable('round')\"\n",
              "            title=\"Generate code using this dataframe.\"\n",
              "            style=\"display:none;\">\n",
              "\n",
              "  <svg xmlns=\"http://www.w3.org/2000/svg\" height=\"24px\"viewBox=\"0 0 24 24\"\n",
              "       width=\"24px\">\n",
              "    <path d=\"M7,19H8.4L18.45,9,17,7.55,7,17.6ZM5,21V16.75L18.45,3.32a2,2,0,0,1,2.83,0l1.4,1.43a1.91,1.91,0,0,1,.58,1.4,1.91,1.91,0,0,1-.58,1.4L9.25,21ZM18.45,9,17,7.55Zm-12,3A5.31,5.31,0,0,0,4.9,8.1,5.31,5.31,0,0,0,1,6.5,5.31,5.31,0,0,0,4.9,4.9,5.31,5.31,0,0,0,6.5,1,5.31,5.31,0,0,0,8.1,4.9,5.31,5.31,0,0,0,12,6.5,5.46,5.46,0,0,0,6.5,12Z\"/>\n",
              "  </svg>\n",
              "    </button>\n",
              "    <script>\n",
              "      (() => {\n",
              "      const buttonEl =\n",
              "        document.querySelector('#id_3961f6a6-4c96-4c32-beb5-8cf539c19f26 button.colab-df-generate');\n",
              "      buttonEl.style.display =\n",
              "        google.colab.kernel.accessAllowed ? 'block' : 'none';\n",
              "\n",
              "      buttonEl.onclick = () => {\n",
              "        google.colab.notebook.generateWithVariable('round');\n",
              "      }\n",
              "      })();\n",
              "    </script>\n",
              "  </div>\n",
              "\n",
              "    </div>\n",
              "  </div>\n"
            ],
            "application/vnd.google.colaboratory.intrinsic+json": {
              "type": "dataframe",
              "variable_name": "round",
              "summary": "{\n  \"name\": \"round\",\n  \"rows\": 9,\n  \"fields\": [\n    {\n      \"column\": 0,\n      \"properties\": {\n        \"dtype\": \"number\",\n        \"std\": 2,\n        \"min\": 1,\n        \"max\": 7,\n        \"num_unique_values\": 7,\n        \"samples\": [\n          7,\n          6,\n          2\n        ],\n        \"semantic_type\": \"\",\n        \"description\": \"\"\n      }\n    }\n  ]\n}"
            }
          },
          "metadata": {},
          "execution_count": 143
        }
      ]
    },
    {
      "cell_type": "code",
      "source": [
        "#PREGUNTA 1 LETRA H): PERTENECER A ÁFRICA Y CLASIFICAR A SEGUNDA RONDA\n",
        "\n",
        "total = df_worldcup_2014.shape[0]\n",
        "condiciones_af = np.sum((df_worldcup_2014['continent'] == 'africa') & (df_worldcup_2014['clasificado'] >= 1))\n",
        "prob_af_2 = condiciones_af/total\n",
        "print(f\"La probabilidad de que un equipo pertenezca a África y que clasifique a segunda ronda es de: {prob_af_2} %\")\n",
        "\n"
      ],
      "metadata": {
        "colab": {
          "base_uri": "https://localhost:8080/"
        },
        "id": "lcJhEu9AyKjt",
        "outputId": "c508a507-8e0c-459a-e291-845a528de746"
      },
      "execution_count": null,
      "outputs": [
        {
          "output_type": "stream",
          "name": "stdout",
          "text": [
            "La probabilidad de que un equipo pertenezca a África y que clasifique a segunda ronda es de: 0.0625 %\n"
          ]
        }
      ]
    },
    {
      "cell_type": "code",
      "source": [
        "#PREGUNTA 1 LETRA I): PERTENECER A EUROPA Y CLASIFICAR A SEGUNDA RONDA\n",
        "\n",
        "total = df_worldcup_2014.shape[0]\n",
        "condiciones_eu = np.sum((df_worldcup_2014['continent'] == 'europe') & (df_worldcup_2014['clasificado'] >= 1))\n",
        "prob_eu_2 = condiciones_eu/total\n",
        "\n",
        "print(f\"La probabilidad de que un equipo pertenezca a Europa y que clasifique a segunda ronda es de: {prob_eu_2} %\")\n"
      ],
      "metadata": {
        "colab": {
          "base_uri": "https://localhost:8080/"
        },
        "id": "RaCiKTZ08xfb",
        "outputId": "88047c1c-ddd9-4761-8e83-6ca01d426ec4"
      },
      "execution_count": null,
      "outputs": [
        {
          "output_type": "stream",
          "name": "stdout",
          "text": [
            "La probabilidad de que un equipo pertenezca a Europa y que clasifique a segunda ronda es de: 0.1875 %\n"
          ]
        }
      ]
    },
    {
      "cell_type": "code",
      "source": [
        "#PREGUNTA 1 LETRA J): PERTENECER A ASIA Y CLASIFICAR A SEGUNDA RONDA\n",
        "\n",
        "total = df_worldcup_2014.shape[0]\n",
        "condiciones_as = np.sum((df_worldcup_2014['continent'] == 'asia') & (df_worldcup_2014['clasificado'] >= 1))\n",
        "prob_as_2 = condiciones_as/total\n",
        "print(f\"La probabilidad de que un equipo pertenezca a Asia y que clasifique a segunda ronda es de: {prob_as_2} %\")\n"
      ],
      "metadata": {
        "colab": {
          "base_uri": "https://localhost:8080/"
        },
        "id": "LXwjMYQC8xby",
        "outputId": "559fc414-f793-458f-a243-db4c1afc84d7"
      },
      "execution_count": null,
      "outputs": [
        {
          "output_type": "stream",
          "name": "stdout",
          "text": [
            "La probabilidad de que un equipo pertenezca a Asia y que clasifique a segunda ronda es de: 0.0 %\n"
          ]
        }
      ]
    },
    {
      "cell_type": "code",
      "source": [
        "#PREGUNTA 1 LETRA K): PERTENECER A SUDAMÉRICA Y CLASIFICAR A SEGUNDA RONDA\n",
        "\n",
        "total = df_worldcup_2014.shape[0]\n",
        "condiciones_sud = np.sum((df_worldcup_2014['continent'] == 'southamerica') & (df_worldcup_2014['clasificado'] >= 1))\n",
        "prob_sud_2 = condiciones_sud/total\n",
        "print(f\"La probabilidad de que un equipo pertenezca a Sudamérica y que clasifique a segunda ronda es de: {prob_sud_2} %\")\n"
      ],
      "metadata": {
        "colab": {
          "base_uri": "https://localhost:8080/"
        },
        "id": "9S7pLnccAPDv",
        "outputId": "3676a8b0-3913-45c2-9594-ff212eeda009"
      },
      "execution_count": null,
      "outputs": [
        {
          "output_type": "stream",
          "name": "stdout",
          "text": [
            "La probabilidad de que un equipo pertenezca a Sudamérica y que clasifique a segunda ronda es de: 0.15625 %\n"
          ]
        }
      ]
    },
    {
      "cell_type": "code",
      "source": [
        "#PREGUNTA 1 LETRA K): PERTENECER A SUDAMÉRICA Y CLASIFICAR A SEGUNDA RONDA\n",
        "\n",
        "total = df_worldcup_2014.shape[0]\n",
        "cond_sud = np.sum((df_worldcup_2014['continent'] == 'southamerica') & (df_worldcup_2014['clasificado'] >= 1))\n",
        "sud_2 = cond_sud/ total\n",
        "print(f\"La probabilidad de pertenecer a Sudamerica y clasificar a 2da ronda es de: {sud_2} %\")"
      ],
      "metadata": {
        "colab": {
          "base_uri": "https://localhost:8080/"
        },
        "id": "XP0q32HpqTIx",
        "outputId": "4e59d16b-564b-4f6d-a7b3-3327fe04d8ea"
      },
      "execution_count": null,
      "outputs": [
        {
          "output_type": "stream",
          "name": "stdout",
          "text": [
            "La probabilidad de pertenecer a Sudamerica y clasificar a 2da ronda es de: 0.15625 %\n"
          ]
        }
      ]
    },
    {
      "cell_type": "code",
      "source": [
        "#PREGUNTA 1 LETRA L): PERTENECER A NORTEAMÉRICA Y CLASIFICAR A SEGUNDA RONDA\n",
        "\n",
        "total = df_worldcup_2014.shape[0]\n",
        "cond_north = np.sum((df_worldcup_2014['continent'] == 'northamerica') & (df_worldcup_2014['clasificado'] >= 1))\n",
        "prob_north_2 = cond_north/total\n",
        "print(f\"La probabilidad de que un equipo pertenezca a Norteamérica y que clasifique a segunda ronda es de: {prob_north_2} %\")\n"
      ],
      "metadata": {
        "colab": {
          "base_uri": "https://localhost:8080/"
        },
        "id": "6GwTiQegBdn5",
        "outputId": "f923fd10-178a-4a49-bb71-fbc0616966db"
      },
      "execution_count": null,
      "outputs": [
        {
          "output_type": "stream",
          "name": "stdout",
          "text": [
            "La probabilidad de que un equipo pertenezca a Norteamérica y que clasifique a segunda ronda es de: 0.09375 %\n"
          ]
        }
      ]
    },
    {
      "cell_type": "markdown",
      "source": [
        "# **PROBABILIDAD QUE EQUIPOS PERTENEZCAN A UN DETERMINADO CONTINENTE O QUE CLASIFIQUEN A SEGUNDA RONDA**\n",
        "\n",
        "\n",
        "\n",
        "---\n",
        "\n"
      ],
      "metadata": {
        "id": "Q7eO93AMD1nF"
      }
    },
    {
      "cell_type": "code",
      "source": [
        "#REVISIÓN VALORES CONTINENTES QUE CLASIFICARON O NO A SEGUNDA RONDA\n",
        "round = df_worldcup_2014[['continent', 'clasificado']].value_counts().to_frame()\n",
        "round"
      ],
      "metadata": {
        "colab": {
          "base_uri": "https://localhost:8080/",
          "height": 359
        },
        "id": "0JzSckviEKoB",
        "outputId": "0b2bc19b-7f8e-4cf1-d408-df0dc9b4865b"
      },
      "execution_count": null,
      "outputs": [
        {
          "output_type": "execute_result",
          "data": {
            "text/plain": [
              "                          0\n",
              "continent    clasificado   \n",
              "europe       0            7\n",
              "             1            6\n",
              "southamerica 1            5\n",
              "asia         0            4\n",
              "africa       0            3\n",
              "northamerica 1            3\n",
              "africa       1            2\n",
              "northamerica 0            1\n",
              "southamerica 0            1"
            ],
            "text/html": [
              "\n",
              "  <div id=\"df-4385bc9a-be1c-4a61-affa-73e250c6425c\" class=\"colab-df-container\">\n",
              "    <div>\n",
              "<style scoped>\n",
              "    .dataframe tbody tr th:only-of-type {\n",
              "        vertical-align: middle;\n",
              "    }\n",
              "\n",
              "    .dataframe tbody tr th {\n",
              "        vertical-align: top;\n",
              "    }\n",
              "\n",
              "    .dataframe thead th {\n",
              "        text-align: right;\n",
              "    }\n",
              "</style>\n",
              "<table border=\"1\" class=\"dataframe\">\n",
              "  <thead>\n",
              "    <tr style=\"text-align: right;\">\n",
              "      <th></th>\n",
              "      <th></th>\n",
              "      <th>0</th>\n",
              "    </tr>\n",
              "    <tr>\n",
              "      <th>continent</th>\n",
              "      <th>clasificado</th>\n",
              "      <th></th>\n",
              "    </tr>\n",
              "  </thead>\n",
              "  <tbody>\n",
              "    <tr>\n",
              "      <th rowspan=\"2\" valign=\"top\">europe</th>\n",
              "      <th>0</th>\n",
              "      <td>7</td>\n",
              "    </tr>\n",
              "    <tr>\n",
              "      <th>1</th>\n",
              "      <td>6</td>\n",
              "    </tr>\n",
              "    <tr>\n",
              "      <th>southamerica</th>\n",
              "      <th>1</th>\n",
              "      <td>5</td>\n",
              "    </tr>\n",
              "    <tr>\n",
              "      <th>asia</th>\n",
              "      <th>0</th>\n",
              "      <td>4</td>\n",
              "    </tr>\n",
              "    <tr>\n",
              "      <th>africa</th>\n",
              "      <th>0</th>\n",
              "      <td>3</td>\n",
              "    </tr>\n",
              "    <tr>\n",
              "      <th>northamerica</th>\n",
              "      <th>1</th>\n",
              "      <td>3</td>\n",
              "    </tr>\n",
              "    <tr>\n",
              "      <th>africa</th>\n",
              "      <th>1</th>\n",
              "      <td>2</td>\n",
              "    </tr>\n",
              "    <tr>\n",
              "      <th>northamerica</th>\n",
              "      <th>0</th>\n",
              "      <td>1</td>\n",
              "    </tr>\n",
              "    <tr>\n",
              "      <th>southamerica</th>\n",
              "      <th>0</th>\n",
              "      <td>1</td>\n",
              "    </tr>\n",
              "  </tbody>\n",
              "</table>\n",
              "</div>\n",
              "    <div class=\"colab-df-buttons\">\n",
              "\n",
              "  <div class=\"colab-df-container\">\n",
              "    <button class=\"colab-df-convert\" onclick=\"convertToInteractive('df-4385bc9a-be1c-4a61-affa-73e250c6425c')\"\n",
              "            title=\"Convert this dataframe to an interactive table.\"\n",
              "            style=\"display:none;\">\n",
              "\n",
              "  <svg xmlns=\"http://www.w3.org/2000/svg\" height=\"24px\" viewBox=\"0 -960 960 960\">\n",
              "    <path d=\"M120-120v-720h720v720H120Zm60-500h600v-160H180v160Zm220 220h160v-160H400v160Zm0 220h160v-160H400v160ZM180-400h160v-160H180v160Zm440 0h160v-160H620v160ZM180-180h160v-160H180v160Zm440 0h160v-160H620v160Z\"/>\n",
              "  </svg>\n",
              "    </button>\n",
              "\n",
              "  <style>\n",
              "    .colab-df-container {\n",
              "      display:flex;\n",
              "      gap: 12px;\n",
              "    }\n",
              "\n",
              "    .colab-df-convert {\n",
              "      background-color: #E8F0FE;\n",
              "      border: none;\n",
              "      border-radius: 50%;\n",
              "      cursor: pointer;\n",
              "      display: none;\n",
              "      fill: #1967D2;\n",
              "      height: 32px;\n",
              "      padding: 0 0 0 0;\n",
              "      width: 32px;\n",
              "    }\n",
              "\n",
              "    .colab-df-convert:hover {\n",
              "      background-color: #E2EBFA;\n",
              "      box-shadow: 0px 1px 2px rgba(60, 64, 67, 0.3), 0px 1px 3px 1px rgba(60, 64, 67, 0.15);\n",
              "      fill: #174EA6;\n",
              "    }\n",
              "\n",
              "    .colab-df-buttons div {\n",
              "      margin-bottom: 4px;\n",
              "    }\n",
              "\n",
              "    [theme=dark] .colab-df-convert {\n",
              "      background-color: #3B4455;\n",
              "      fill: #D2E3FC;\n",
              "    }\n",
              "\n",
              "    [theme=dark] .colab-df-convert:hover {\n",
              "      background-color: #434B5C;\n",
              "      box-shadow: 0px 1px 3px 1px rgba(0, 0, 0, 0.15);\n",
              "      filter: drop-shadow(0px 1px 2px rgba(0, 0, 0, 0.3));\n",
              "      fill: #FFFFFF;\n",
              "    }\n",
              "  </style>\n",
              "\n",
              "    <script>\n",
              "      const buttonEl =\n",
              "        document.querySelector('#df-4385bc9a-be1c-4a61-affa-73e250c6425c button.colab-df-convert');\n",
              "      buttonEl.style.display =\n",
              "        google.colab.kernel.accessAllowed ? 'block' : 'none';\n",
              "\n",
              "      async function convertToInteractive(key) {\n",
              "        const element = document.querySelector('#df-4385bc9a-be1c-4a61-affa-73e250c6425c');\n",
              "        const dataTable =\n",
              "          await google.colab.kernel.invokeFunction('convertToInteractive',\n",
              "                                                    [key], {});\n",
              "        if (!dataTable) return;\n",
              "\n",
              "        const docLinkHtml = 'Like what you see? Visit the ' +\n",
              "          '<a target=\"_blank\" href=https://colab.research.google.com/notebooks/data_table.ipynb>data table notebook</a>'\n",
              "          + ' to learn more about interactive tables.';\n",
              "        element.innerHTML = '';\n",
              "        dataTable['output_type'] = 'display_data';\n",
              "        await google.colab.output.renderOutput(dataTable, element);\n",
              "        const docLink = document.createElement('div');\n",
              "        docLink.innerHTML = docLinkHtml;\n",
              "        element.appendChild(docLink);\n",
              "      }\n",
              "    </script>\n",
              "  </div>\n",
              "\n",
              "\n",
              "<div id=\"df-aa875185-725c-4230-bd88-7d7d945fc8b9\">\n",
              "  <button class=\"colab-df-quickchart\" onclick=\"quickchart('df-aa875185-725c-4230-bd88-7d7d945fc8b9')\"\n",
              "            title=\"Suggest charts\"\n",
              "            style=\"display:none;\">\n",
              "\n",
              "<svg xmlns=\"http://www.w3.org/2000/svg\" height=\"24px\"viewBox=\"0 0 24 24\"\n",
              "     width=\"24px\">\n",
              "    <g>\n",
              "        <path d=\"M19 3H5c-1.1 0-2 .9-2 2v14c0 1.1.9 2 2 2h14c1.1 0 2-.9 2-2V5c0-1.1-.9-2-2-2zM9 17H7v-7h2v7zm4 0h-2V7h2v10zm4 0h-2v-4h2v4z\"/>\n",
              "    </g>\n",
              "</svg>\n",
              "  </button>\n",
              "\n",
              "<style>\n",
              "  .colab-df-quickchart {\n",
              "      --bg-color: #E8F0FE;\n",
              "      --fill-color: #1967D2;\n",
              "      --hover-bg-color: #E2EBFA;\n",
              "      --hover-fill-color: #174EA6;\n",
              "      --disabled-fill-color: #AAA;\n",
              "      --disabled-bg-color: #DDD;\n",
              "  }\n",
              "\n",
              "  [theme=dark] .colab-df-quickchart {\n",
              "      --bg-color: #3B4455;\n",
              "      --fill-color: #D2E3FC;\n",
              "      --hover-bg-color: #434B5C;\n",
              "      --hover-fill-color: #FFFFFF;\n",
              "      --disabled-bg-color: #3B4455;\n",
              "      --disabled-fill-color: #666;\n",
              "  }\n",
              "\n",
              "  .colab-df-quickchart {\n",
              "    background-color: var(--bg-color);\n",
              "    border: none;\n",
              "    border-radius: 50%;\n",
              "    cursor: pointer;\n",
              "    display: none;\n",
              "    fill: var(--fill-color);\n",
              "    height: 32px;\n",
              "    padding: 0;\n",
              "    width: 32px;\n",
              "  }\n",
              "\n",
              "  .colab-df-quickchart:hover {\n",
              "    background-color: var(--hover-bg-color);\n",
              "    box-shadow: 0 1px 2px rgba(60, 64, 67, 0.3), 0 1px 3px 1px rgba(60, 64, 67, 0.15);\n",
              "    fill: var(--button-hover-fill-color);\n",
              "  }\n",
              "\n",
              "  .colab-df-quickchart-complete:disabled,\n",
              "  .colab-df-quickchart-complete:disabled:hover {\n",
              "    background-color: var(--disabled-bg-color);\n",
              "    fill: var(--disabled-fill-color);\n",
              "    box-shadow: none;\n",
              "  }\n",
              "\n",
              "  .colab-df-spinner {\n",
              "    border: 2px solid var(--fill-color);\n",
              "    border-color: transparent;\n",
              "    border-bottom-color: var(--fill-color);\n",
              "    animation:\n",
              "      spin 1s steps(1) infinite;\n",
              "  }\n",
              "\n",
              "  @keyframes spin {\n",
              "    0% {\n",
              "      border-color: transparent;\n",
              "      border-bottom-color: var(--fill-color);\n",
              "      border-left-color: var(--fill-color);\n",
              "    }\n",
              "    20% {\n",
              "      border-color: transparent;\n",
              "      border-left-color: var(--fill-color);\n",
              "      border-top-color: var(--fill-color);\n",
              "    }\n",
              "    30% {\n",
              "      border-color: transparent;\n",
              "      border-left-color: var(--fill-color);\n",
              "      border-top-color: var(--fill-color);\n",
              "      border-right-color: var(--fill-color);\n",
              "    }\n",
              "    40% {\n",
              "      border-color: transparent;\n",
              "      border-right-color: var(--fill-color);\n",
              "      border-top-color: var(--fill-color);\n",
              "    }\n",
              "    60% {\n",
              "      border-color: transparent;\n",
              "      border-right-color: var(--fill-color);\n",
              "    }\n",
              "    80% {\n",
              "      border-color: transparent;\n",
              "      border-right-color: var(--fill-color);\n",
              "      border-bottom-color: var(--fill-color);\n",
              "    }\n",
              "    90% {\n",
              "      border-color: transparent;\n",
              "      border-bottom-color: var(--fill-color);\n",
              "    }\n",
              "  }\n",
              "</style>\n",
              "\n",
              "  <script>\n",
              "    async function quickchart(key) {\n",
              "      const quickchartButtonEl =\n",
              "        document.querySelector('#' + key + ' button');\n",
              "      quickchartButtonEl.disabled = true;  // To prevent multiple clicks.\n",
              "      quickchartButtonEl.classList.add('colab-df-spinner');\n",
              "      try {\n",
              "        const charts = await google.colab.kernel.invokeFunction(\n",
              "            'suggestCharts', [key], {});\n",
              "      } catch (error) {\n",
              "        console.error('Error during call to suggestCharts:', error);\n",
              "      }\n",
              "      quickchartButtonEl.classList.remove('colab-df-spinner');\n",
              "      quickchartButtonEl.classList.add('colab-df-quickchart-complete');\n",
              "    }\n",
              "    (() => {\n",
              "      let quickchartButtonEl =\n",
              "        document.querySelector('#df-aa875185-725c-4230-bd88-7d7d945fc8b9 button');\n",
              "      quickchartButtonEl.style.display =\n",
              "        google.colab.kernel.accessAllowed ? 'block' : 'none';\n",
              "    })();\n",
              "  </script>\n",
              "</div>\n",
              "\n",
              "  <div id=\"id_e2696362-9bda-48c6-8559-4c2476efeb12\">\n",
              "    <style>\n",
              "      .colab-df-generate {\n",
              "        background-color: #E8F0FE;\n",
              "        border: none;\n",
              "        border-radius: 50%;\n",
              "        cursor: pointer;\n",
              "        display: none;\n",
              "        fill: #1967D2;\n",
              "        height: 32px;\n",
              "        padding: 0 0 0 0;\n",
              "        width: 32px;\n",
              "      }\n",
              "\n",
              "      .colab-df-generate:hover {\n",
              "        background-color: #E2EBFA;\n",
              "        box-shadow: 0px 1px 2px rgba(60, 64, 67, 0.3), 0px 1px 3px 1px rgba(60, 64, 67, 0.15);\n",
              "        fill: #174EA6;\n",
              "      }\n",
              "\n",
              "      [theme=dark] .colab-df-generate {\n",
              "        background-color: #3B4455;\n",
              "        fill: #D2E3FC;\n",
              "      }\n",
              "\n",
              "      [theme=dark] .colab-df-generate:hover {\n",
              "        background-color: #434B5C;\n",
              "        box-shadow: 0px 1px 3px 1px rgba(0, 0, 0, 0.15);\n",
              "        filter: drop-shadow(0px 1px 2px rgba(0, 0, 0, 0.3));\n",
              "        fill: #FFFFFF;\n",
              "      }\n",
              "    </style>\n",
              "    <button class=\"colab-df-generate\" onclick=\"generateWithVariable('round')\"\n",
              "            title=\"Generate code using this dataframe.\"\n",
              "            style=\"display:none;\">\n",
              "\n",
              "  <svg xmlns=\"http://www.w3.org/2000/svg\" height=\"24px\"viewBox=\"0 0 24 24\"\n",
              "       width=\"24px\">\n",
              "    <path d=\"M7,19H8.4L18.45,9,17,7.55,7,17.6ZM5,21V16.75L18.45,3.32a2,2,0,0,1,2.83,0l1.4,1.43a1.91,1.91,0,0,1,.58,1.4,1.91,1.91,0,0,1-.58,1.4L9.25,21ZM18.45,9,17,7.55Zm-12,3A5.31,5.31,0,0,0,4.9,8.1,5.31,5.31,0,0,0,1,6.5,5.31,5.31,0,0,0,4.9,4.9,5.31,5.31,0,0,0,6.5,1,5.31,5.31,0,0,0,8.1,4.9,5.31,5.31,0,0,0,12,6.5,5.46,5.46,0,0,0,6.5,12Z\"/>\n",
              "  </svg>\n",
              "    </button>\n",
              "    <script>\n",
              "      (() => {\n",
              "      const buttonEl =\n",
              "        document.querySelector('#id_e2696362-9bda-48c6-8559-4c2476efeb12 button.colab-df-generate');\n",
              "      buttonEl.style.display =\n",
              "        google.colab.kernel.accessAllowed ? 'block' : 'none';\n",
              "\n",
              "      buttonEl.onclick = () => {\n",
              "        google.colab.notebook.generateWithVariable('round');\n",
              "      }\n",
              "      })();\n",
              "    </script>\n",
              "  </div>\n",
              "\n",
              "    </div>\n",
              "  </div>\n"
            ],
            "application/vnd.google.colaboratory.intrinsic+json": {
              "type": "dataframe",
              "variable_name": "round",
              "summary": "{\n  \"name\": \"round\",\n  \"rows\": 9,\n  \"fields\": [\n    {\n      \"column\": 0,\n      \"properties\": {\n        \"dtype\": \"number\",\n        \"std\": 2,\n        \"min\": 1,\n        \"max\": 7,\n        \"num_unique_values\": 7,\n        \"samples\": [\n          7,\n          6,\n          2\n        ],\n        \"semantic_type\": \"\",\n        \"description\": \"\"\n      }\n    }\n  ]\n}"
            }
          },
          "metadata": {},
          "execution_count": 22
        }
      ]
    },
    {
      "cell_type": "code",
      "source": [
        "#PREGUNTA 1 LETRA P): PERTENECER A ÁFRICA O CLASIFICAR A SEGUNDA RONDA\n",
        "\n",
        "total = df_worldcup_2014.shape[0]\n",
        "condicion_af = np.sum((df_worldcup_2014['continent'] == 'africa') | (df_worldcup_2014['clasificado'] >= 1))\n",
        "prob_af_2 = condicion_af/total\n",
        "print(f\"La probabilidad de que un Equipo pertenecezca a África o clasifique a segunda ronda es de: {prob_af_2} %\")"
      ],
      "metadata": {
        "colab": {
          "base_uri": "https://localhost:8080/"
        },
        "id": "nkCpj-sGEK2-",
        "outputId": "55b5eb4f-895c-4e96-c584-de406262c6bc"
      },
      "execution_count": null,
      "outputs": [
        {
          "output_type": "stream",
          "name": "stdout",
          "text": [
            "La probabilidad de que un Equipo pertenecezca a África o clasifique a segunda ronda es de: 0.59375 %\n"
          ]
        }
      ]
    },
    {
      "cell_type": "code",
      "source": [
        "# PREGUNTA 1 LETRA M): PERTENECER A ÁFRICA O CLASIFICAR A SEGUNDA RONDA\n",
        "\n",
        "total = df_worldcup_2014.shape[0]\n",
        "cond_af = np.sum(df_worldcup_2014['continent'] == 'africa')/total\n",
        "cond_clas = np.sum(df_worldcup_2014['clasificado'] >= 1)/total\n",
        "inter_af_2 = np.sum((df_worldcup_2014['continent'] == 'africa') & (df_worldcup_2014['clasificado'] >= 1))/total\n",
        "prob_af_2_round = cond_af + cond_clas - inter_af_2\n",
        "print(f\"La probabilidad de que un Equipo pertenecezca a África o clasifique a segunda ronda es de: {prob_af_2_round} %\")"
      ],
      "metadata": {
        "colab": {
          "base_uri": "https://localhost:8080/"
        },
        "id": "XiiT-UTJEK5-",
        "outputId": "c3d5e705-9385-4fa9-e24d-20bfdbe27257"
      },
      "execution_count": null,
      "outputs": [
        {
          "output_type": "stream",
          "name": "stdout",
          "text": [
            "La probabilidad de que un Equipo pertenecezca a África o clasifique a segunda ronda es de: 0.59375 %\n"
          ]
        }
      ]
    },
    {
      "cell_type": "code",
      "source": [
        "#PREGUNTA 1 LETRA N): PERTENECER A EUROPA O CLASIFICAR A SEGUNDA RONDA\n",
        "\n",
        "total = df_worldcup_2014.shape[0]\n",
        "condicion_eu = np.sum((df_worldcup_2014['continent'] == 'europe') | (df_worldcup_2014['clasificado'] >= 1))\n",
        "prob_eu_2 = condicion_eu/total\n",
        "print(f\"La probabilidad de que un Equipo pertenecezca a Europa o clasifique a segunda ronda es de: {prob_eu_2} %\")"
      ],
      "metadata": {
        "colab": {
          "base_uri": "https://localhost:8080/"
        },
        "id": "kyDlBvGFGH1_",
        "outputId": "d7235d9f-5fec-4986-a36f-1bcd2a137a3a"
      },
      "execution_count": null,
      "outputs": [
        {
          "output_type": "stream",
          "name": "stdout",
          "text": [
            "La probabilidad de que un Equipo pertenecezca a Europa o clasifique a segunda ronda es de: 0.71875 %\n"
          ]
        }
      ]
    },
    {
      "cell_type": "code",
      "source": [
        "#PREGUNTA 1 LETRA N): PERTENECER A EUROPA O CLASIFICAR A SEGUNDA RONDA\n",
        "\n",
        "total = df_worldcup_2014.shape[0]\n",
        "cond_eu = np.sum(df_worldcup_2014['continent'] == 'europe')/total\n",
        "cond_clas = np.sum(df_worldcup_2014['clasificado'] >= 1)/total\n",
        "inter_eu_2 = np.sum((df_worldcup_2014['continent'] == 'europe') & (df_worldcup_2014['clasificado'] >= 1))/total\n",
        "prob_eu_2_round = cond_eu + cond_clas - inter_eu_2\n",
        "print(f\"La probabilidad de que un Equipo pertenecezca a Europa o clasifique a segunda ronda es de: {prob_eu_2_round} %\")"
      ],
      "metadata": {
        "colab": {
          "base_uri": "https://localhost:8080/"
        },
        "id": "Y-k3yvZHF_99",
        "outputId": "bcb9b32f-e64f-4338-dc7e-66efd56bd81d"
      },
      "execution_count": null,
      "outputs": [
        {
          "output_type": "stream",
          "name": "stdout",
          "text": [
            "La probabilidad de que un Equipo pertenecezca a Europa o clasifique a segunda ronda es de: 0.71875 %\n"
          ]
        }
      ]
    },
    {
      "cell_type": "code",
      "source": [
        "#PREGUNTA 1 LETRA O): PERTENECER A ASIA O CLASIFICAR A SEGUNDA RONDA\n",
        "\n",
        "total = df_worldcup_2014.shape[0]\n",
        "condicion_as = np.sum((df_worldcup_2014['continent'] == 'asia') | (df_worldcup_2014['clasificado'] >= 1))\n",
        "prob_as_2 = condicion_as/total\n",
        "print(f\"La probabilidad de que un Equipo pertenezca a Asia o que clasifique a segunda ronda es de: {prob_as_2} %\")"
      ],
      "metadata": {
        "colab": {
          "base_uri": "https://localhost:8080/"
        },
        "id": "4l5LK4XDF_4z",
        "outputId": "d584478f-551c-48a5-e6c1-c863d49f6b84"
      },
      "execution_count": null,
      "outputs": [
        {
          "output_type": "stream",
          "name": "stdout",
          "text": [
            "La probabilidad de que un Equipo pertenezca a Asia o que clasifique a segunda ronda es de: 0.625 %\n"
          ]
        }
      ]
    },
    {
      "cell_type": "code",
      "source": [
        "#PREGUNTA 1 LETRA O): PERTENECER A ASIA O CLASIFICAR A SEGUNDA RONDA\n",
        "\n",
        "total = df_worldcup_2014.shape[0]\n",
        "condicion_as = np.sum(df_worldcup_2014['continent'] == 'asia')/total\n",
        "cond_clas_as = np.sum(df_worldcup_2014['clasificado'] >= 1)/total\n",
        "inter_as_2 = np.sum((df_worldcup_2014['continent'] == 'asia') & (df_worldcup_2014['clasificado'] >= 1))/total\n",
        "prob_as_2_round = condicion_as + cond_clas_as - inter_as_2\n",
        "print(f\"La probabilidad de que un Equipo pertenezca a Asia o que clasifique a segunda ronda es de: {prob_as_2_round} %\")"
      ],
      "metadata": {
        "colab": {
          "base_uri": "https://localhost:8080/"
        },
        "id": "HblAQKfcF_0l",
        "outputId": "686b8d77-ef2e-4b8a-e97c-55107e83a8c9"
      },
      "execution_count": null,
      "outputs": [
        {
          "output_type": "stream",
          "name": "stdout",
          "text": [
            "La probabilidad de que un Equipo pertenezca a Asia o que clasifique a segunda ronda es de: 0.625 %\n"
          ]
        }
      ]
    },
    {
      "cell_type": "code",
      "source": [
        "#PREGUNTA 1 LETRA P): PERTENECER A SUDAMÉRICA O CLASIFICAR A SEGUNDA RONDA\n",
        "\n",
        "total = df_worldcup_2014.shape[0]\n",
        "cond_sud = np.sum((df_worldcup_2014['continent'] == 'southamerica') | (df_worldcup_2014['clasificado'] >= 1))\n",
        "prob_sud_2 = cond_sud/total\n",
        "print(f\"La probabilidad de que un Equipo pertenezca a Sudamérica o que clasifique a segunda ronda es de {prob_sud_2} %\")"
      ],
      "metadata": {
        "colab": {
          "base_uri": "https://localhost:8080/"
        },
        "id": "nxBHhv5nF_sh",
        "outputId": "ef0027f8-de0b-4fae-8629-7df4a8742b8c"
      },
      "execution_count": null,
      "outputs": [
        {
          "output_type": "stream",
          "name": "stdout",
          "text": [
            "La probabilidad de que un Equipo pertenezca a Sudamérica o que clasifique a segunda ronda es de 0.53125 %\n"
          ]
        }
      ]
    },
    {
      "cell_type": "code",
      "source": [
        "#PREGUNTA 1 LETRA P): PERTENECER A SUDAMÉRICA O CLASIFICAR A SEGUNDA RONDA\n",
        "\n",
        "total_reg = df_worldcup_2014.shape[0]\n",
        "condicion_sud = np.sum(df_worldcup_2014['continent'] == 'southamerica')/total_reg\n",
        "cond_clas_sud = np.sum(df_worldcup_2014['clasificado'] >= 1)/total_reg\n",
        "inter_sud_2 = np.sum((df_worldcup_2014['continent'] == 'southamerica') & (df_worldcup_2014['clasificado'] >= 1))/total\n",
        "prob_sud_2_round = condicion_sud + cond_clas_sud - inter_sud_2\n",
        "print(f\"La probabilidad de que un Equipo pertenezca a Sudamérica o que clasifique a segunda ronda es de: {prob_sud_2_round} %\")"
      ],
      "metadata": {
        "colab": {
          "base_uri": "https://localhost:8080/"
        },
        "id": "EC6T_H2VF_jU",
        "outputId": "222b1962-5c8c-49ad-ef3f-2aae9d7d8a03"
      },
      "execution_count": null,
      "outputs": [
        {
          "output_type": "stream",
          "name": "stdout",
          "text": [
            "La probabilidad de que un Equipo pertenezca a Sudamérica o que clasifique a segunda ronda es de: 0.53125 %\n"
          ]
        }
      ]
    },
    {
      "cell_type": "code",
      "source": [
        "#PREGUNTA 1 LETRA Q): PERTENECER A NORTEAMÉRICA O CLASIFICAR A SEGUNDA RONDA\n",
        "\n",
        "total = df_worldcup_2014.shape[0]\n",
        "pa = np.sum(df_worldcup_2014['continent'] == 'northamerica') /total\n",
        "pb = np.sum(df_worldcup_2014['clasificado'] == 1) /total\n",
        "pa_b = np.sum(df_worldcup_2014['continent'] == 'northamerica') & int(np.sum(df_worldcup_2014['clasificado'] == 1)/total)\n",
        "prob = pa + pb -pa_b\n",
        "print(f\"La probabilidad de que un Equipo pertenezca a Norteamérica o que clasifique a segunda ronda es de: {prob} %\")"
      ],
      "metadata": {
        "colab": {
          "base_uri": "https://localhost:8080/"
        },
        "id": "u12wXyEMaZ-A",
        "outputId": "4f0f1a9e-9dee-46dc-8246-ee16b3541250"
      },
      "execution_count": null,
      "outputs": [
        {
          "output_type": "stream",
          "name": "stdout",
          "text": [
            "La probabilidad de que un Equipo pertenezca a Norteamérica o que clasifique a segunda ronda es de: 0.625 %\n"
          ]
        }
      ]
    },
    {
      "cell_type": "markdown",
      "source": [
        "# **EQUIPOS QUE PERTENEZCAN A UN DETERMINADO CONTINENTE Y QUE A LO MENOS HAYAN GANADO A LO MENOS UN PARTIDO**\n",
        "\n",
        "\n",
        "\n",
        "---\n",
        "\n"
      ],
      "metadata": {
        "id": "Uryb0FGWb9BA"
      }
    },
    {
      "cell_type": "code",
      "source": [
        "df_1 = df_worldcup_2014[df_worldcup_2014['continent'] == 'northamerica']\n",
        "df_1.loc[:,['continent', 'juegos_ganados']]\n"
      ],
      "metadata": {
        "colab": {
          "base_uri": "https://localhost:8080/",
          "height": 173
        },
        "id": "7jJRcnGljC_2",
        "outputId": "2862d265-a090-46d6-8281-3c492f2d7b24"
      },
      "execution_count": null,
      "outputs": [
        {
          "output_type": "execute_result",
          "data": {
            "text/plain": [
              "       continent  juegos_ganados\n",
              "1   northamerica               2\n",
              "12  northamerica               2\n",
              "19  northamerica               0\n",
              "25  northamerica               1"
            ],
            "text/html": [
              "\n",
              "  <div id=\"df-8cfadb9a-9a51-423d-aa93-7471f7a4c469\" class=\"colab-df-container\">\n",
              "    <div>\n",
              "<style scoped>\n",
              "    .dataframe tbody tr th:only-of-type {\n",
              "        vertical-align: middle;\n",
              "    }\n",
              "\n",
              "    .dataframe tbody tr th {\n",
              "        vertical-align: top;\n",
              "    }\n",
              "\n",
              "    .dataframe thead th {\n",
              "        text-align: right;\n",
              "    }\n",
              "</style>\n",
              "<table border=\"1\" class=\"dataframe\">\n",
              "  <thead>\n",
              "    <tr style=\"text-align: right;\">\n",
              "      <th></th>\n",
              "      <th>continent</th>\n",
              "      <th>juegos_ganados</th>\n",
              "    </tr>\n",
              "  </thead>\n",
              "  <tbody>\n",
              "    <tr>\n",
              "      <th>1</th>\n",
              "      <td>northamerica</td>\n",
              "      <td>2</td>\n",
              "    </tr>\n",
              "    <tr>\n",
              "      <th>12</th>\n",
              "      <td>northamerica</td>\n",
              "      <td>2</td>\n",
              "    </tr>\n",
              "    <tr>\n",
              "      <th>19</th>\n",
              "      <td>northamerica</td>\n",
              "      <td>0</td>\n",
              "    </tr>\n",
              "    <tr>\n",
              "      <th>25</th>\n",
              "      <td>northamerica</td>\n",
              "      <td>1</td>\n",
              "    </tr>\n",
              "  </tbody>\n",
              "</table>\n",
              "</div>\n",
              "    <div class=\"colab-df-buttons\">\n",
              "\n",
              "  <div class=\"colab-df-container\">\n",
              "    <button class=\"colab-df-convert\" onclick=\"convertToInteractive('df-8cfadb9a-9a51-423d-aa93-7471f7a4c469')\"\n",
              "            title=\"Convert this dataframe to an interactive table.\"\n",
              "            style=\"display:none;\">\n",
              "\n",
              "  <svg xmlns=\"http://www.w3.org/2000/svg\" height=\"24px\" viewBox=\"0 -960 960 960\">\n",
              "    <path d=\"M120-120v-720h720v720H120Zm60-500h600v-160H180v160Zm220 220h160v-160H400v160Zm0 220h160v-160H400v160ZM180-400h160v-160H180v160Zm440 0h160v-160H620v160ZM180-180h160v-160H180v160Zm440 0h160v-160H620v160Z\"/>\n",
              "  </svg>\n",
              "    </button>\n",
              "\n",
              "  <style>\n",
              "    .colab-df-container {\n",
              "      display:flex;\n",
              "      gap: 12px;\n",
              "    }\n",
              "\n",
              "    .colab-df-convert {\n",
              "      background-color: #E8F0FE;\n",
              "      border: none;\n",
              "      border-radius: 50%;\n",
              "      cursor: pointer;\n",
              "      display: none;\n",
              "      fill: #1967D2;\n",
              "      height: 32px;\n",
              "      padding: 0 0 0 0;\n",
              "      width: 32px;\n",
              "    }\n",
              "\n",
              "    .colab-df-convert:hover {\n",
              "      background-color: #E2EBFA;\n",
              "      box-shadow: 0px 1px 2px rgba(60, 64, 67, 0.3), 0px 1px 3px 1px rgba(60, 64, 67, 0.15);\n",
              "      fill: #174EA6;\n",
              "    }\n",
              "\n",
              "    .colab-df-buttons div {\n",
              "      margin-bottom: 4px;\n",
              "    }\n",
              "\n",
              "    [theme=dark] .colab-df-convert {\n",
              "      background-color: #3B4455;\n",
              "      fill: #D2E3FC;\n",
              "    }\n",
              "\n",
              "    [theme=dark] .colab-df-convert:hover {\n",
              "      background-color: #434B5C;\n",
              "      box-shadow: 0px 1px 3px 1px rgba(0, 0, 0, 0.15);\n",
              "      filter: drop-shadow(0px 1px 2px rgba(0, 0, 0, 0.3));\n",
              "      fill: #FFFFFF;\n",
              "    }\n",
              "  </style>\n",
              "\n",
              "    <script>\n",
              "      const buttonEl =\n",
              "        document.querySelector('#df-8cfadb9a-9a51-423d-aa93-7471f7a4c469 button.colab-df-convert');\n",
              "      buttonEl.style.display =\n",
              "        google.colab.kernel.accessAllowed ? 'block' : 'none';\n",
              "\n",
              "      async function convertToInteractive(key) {\n",
              "        const element = document.querySelector('#df-8cfadb9a-9a51-423d-aa93-7471f7a4c469');\n",
              "        const dataTable =\n",
              "          await google.colab.kernel.invokeFunction('convertToInteractive',\n",
              "                                                    [key], {});\n",
              "        if (!dataTable) return;\n",
              "\n",
              "        const docLinkHtml = 'Like what you see? Visit the ' +\n",
              "          '<a target=\"_blank\" href=https://colab.research.google.com/notebooks/data_table.ipynb>data table notebook</a>'\n",
              "          + ' to learn more about interactive tables.';\n",
              "        element.innerHTML = '';\n",
              "        dataTable['output_type'] = 'display_data';\n",
              "        await google.colab.output.renderOutput(dataTable, element);\n",
              "        const docLink = document.createElement('div');\n",
              "        docLink.innerHTML = docLinkHtml;\n",
              "        element.appendChild(docLink);\n",
              "      }\n",
              "    </script>\n",
              "  </div>\n",
              "\n",
              "\n",
              "<div id=\"df-c8a4e825-8529-4b78-a8a0-e69fad02518a\">\n",
              "  <button class=\"colab-df-quickchart\" onclick=\"quickchart('df-c8a4e825-8529-4b78-a8a0-e69fad02518a')\"\n",
              "            title=\"Suggest charts\"\n",
              "            style=\"display:none;\">\n",
              "\n",
              "<svg xmlns=\"http://www.w3.org/2000/svg\" height=\"24px\"viewBox=\"0 0 24 24\"\n",
              "     width=\"24px\">\n",
              "    <g>\n",
              "        <path d=\"M19 3H5c-1.1 0-2 .9-2 2v14c0 1.1.9 2 2 2h14c1.1 0 2-.9 2-2V5c0-1.1-.9-2-2-2zM9 17H7v-7h2v7zm4 0h-2V7h2v10zm4 0h-2v-4h2v4z\"/>\n",
              "    </g>\n",
              "</svg>\n",
              "  </button>\n",
              "\n",
              "<style>\n",
              "  .colab-df-quickchart {\n",
              "      --bg-color: #E8F0FE;\n",
              "      --fill-color: #1967D2;\n",
              "      --hover-bg-color: #E2EBFA;\n",
              "      --hover-fill-color: #174EA6;\n",
              "      --disabled-fill-color: #AAA;\n",
              "      --disabled-bg-color: #DDD;\n",
              "  }\n",
              "\n",
              "  [theme=dark] .colab-df-quickchart {\n",
              "      --bg-color: #3B4455;\n",
              "      --fill-color: #D2E3FC;\n",
              "      --hover-bg-color: #434B5C;\n",
              "      --hover-fill-color: #FFFFFF;\n",
              "      --disabled-bg-color: #3B4455;\n",
              "      --disabled-fill-color: #666;\n",
              "  }\n",
              "\n",
              "  .colab-df-quickchart {\n",
              "    background-color: var(--bg-color);\n",
              "    border: none;\n",
              "    border-radius: 50%;\n",
              "    cursor: pointer;\n",
              "    display: none;\n",
              "    fill: var(--fill-color);\n",
              "    height: 32px;\n",
              "    padding: 0;\n",
              "    width: 32px;\n",
              "  }\n",
              "\n",
              "  .colab-df-quickchart:hover {\n",
              "    background-color: var(--hover-bg-color);\n",
              "    box-shadow: 0 1px 2px rgba(60, 64, 67, 0.3), 0 1px 3px 1px rgba(60, 64, 67, 0.15);\n",
              "    fill: var(--button-hover-fill-color);\n",
              "  }\n",
              "\n",
              "  .colab-df-quickchart-complete:disabled,\n",
              "  .colab-df-quickchart-complete:disabled:hover {\n",
              "    background-color: var(--disabled-bg-color);\n",
              "    fill: var(--disabled-fill-color);\n",
              "    box-shadow: none;\n",
              "  }\n",
              "\n",
              "  .colab-df-spinner {\n",
              "    border: 2px solid var(--fill-color);\n",
              "    border-color: transparent;\n",
              "    border-bottom-color: var(--fill-color);\n",
              "    animation:\n",
              "      spin 1s steps(1) infinite;\n",
              "  }\n",
              "\n",
              "  @keyframes spin {\n",
              "    0% {\n",
              "      border-color: transparent;\n",
              "      border-bottom-color: var(--fill-color);\n",
              "      border-left-color: var(--fill-color);\n",
              "    }\n",
              "    20% {\n",
              "      border-color: transparent;\n",
              "      border-left-color: var(--fill-color);\n",
              "      border-top-color: var(--fill-color);\n",
              "    }\n",
              "    30% {\n",
              "      border-color: transparent;\n",
              "      border-left-color: var(--fill-color);\n",
              "      border-top-color: var(--fill-color);\n",
              "      border-right-color: var(--fill-color);\n",
              "    }\n",
              "    40% {\n",
              "      border-color: transparent;\n",
              "      border-right-color: var(--fill-color);\n",
              "      border-top-color: var(--fill-color);\n",
              "    }\n",
              "    60% {\n",
              "      border-color: transparent;\n",
              "      border-right-color: var(--fill-color);\n",
              "    }\n",
              "    80% {\n",
              "      border-color: transparent;\n",
              "      border-right-color: var(--fill-color);\n",
              "      border-bottom-color: var(--fill-color);\n",
              "    }\n",
              "    90% {\n",
              "      border-color: transparent;\n",
              "      border-bottom-color: var(--fill-color);\n",
              "    }\n",
              "  }\n",
              "</style>\n",
              "\n",
              "  <script>\n",
              "    async function quickchart(key) {\n",
              "      const quickchartButtonEl =\n",
              "        document.querySelector('#' + key + ' button');\n",
              "      quickchartButtonEl.disabled = true;  // To prevent multiple clicks.\n",
              "      quickchartButtonEl.classList.add('colab-df-spinner');\n",
              "      try {\n",
              "        const charts = await google.colab.kernel.invokeFunction(\n",
              "            'suggestCharts', [key], {});\n",
              "      } catch (error) {\n",
              "        console.error('Error during call to suggestCharts:', error);\n",
              "      }\n",
              "      quickchartButtonEl.classList.remove('colab-df-spinner');\n",
              "      quickchartButtonEl.classList.add('colab-df-quickchart-complete');\n",
              "    }\n",
              "    (() => {\n",
              "      let quickchartButtonEl =\n",
              "        document.querySelector('#df-c8a4e825-8529-4b78-a8a0-e69fad02518a button');\n",
              "      quickchartButtonEl.style.display =\n",
              "        google.colab.kernel.accessAllowed ? 'block' : 'none';\n",
              "    })();\n",
              "  </script>\n",
              "</div>\n",
              "\n",
              "    </div>\n",
              "  </div>\n"
            ],
            "application/vnd.google.colaboratory.intrinsic+json": {
              "type": "dataframe",
              "summary": "{\n  \"name\": \"df_1\",\n  \"rows\": 4,\n  \"fields\": [\n    {\n      \"column\": \"continent\",\n      \"properties\": {\n        \"dtype\": \"category\",\n        \"num_unique_values\": 1,\n        \"samples\": [\n          \"northamerica\"\n        ],\n        \"semantic_type\": \"\",\n        \"description\": \"\"\n      }\n    },\n    {\n      \"column\": \"juegos_ganados\",\n      \"properties\": {\n        \"dtype\": \"number\",\n        \"std\": 0,\n        \"min\": 0,\n        \"max\": 2,\n        \"num_unique_values\": 3,\n        \"samples\": [\n          2\n        ],\n        \"semantic_type\": \"\",\n        \"description\": \"\"\n      }\n    }\n  ]\n}"
            }
          },
          "metadata": {},
          "execution_count": 41
        }
      ]
    },
    {
      "cell_type": "code",
      "source": [
        "#PREGUNTA 1 LETRA R): PERTENECER A ÁFRICA Y HABER GANADO AL MENOS UN PARTIDO\n",
        "\n",
        "total = df_worldcup_2014.shape[0]\n",
        "cond_af = np.sum((df_worldcup_2014['continent'] == 'africa') & (df_worldcup_2014['juegos_ganados'] >= 1))\n",
        "prob_af_win = cond_af/total\n",
        "print(f\"La probabilidad de que un equipo pertenezca a África y que haya ganado a lo menos un partido es de: {prob_af_win} %\")\n"
      ],
      "metadata": {
        "colab": {
          "base_uri": "https://localhost:8080/"
        },
        "id": "PT0RDC58ZDyu",
        "outputId": "0f50012f-844c-40af-854e-c19c7cb14d00"
      },
      "execution_count": null,
      "outputs": [
        {
          "output_type": "stream",
          "name": "stdout",
          "text": [
            "La probabilidad de que un equipo pertenezca a África y que haya ganado a lo menos un partido es de: 0.09375 %\n"
          ]
        }
      ]
    },
    {
      "cell_type": "code",
      "source": [
        "#PREGUNTA 1 LETRA S): PERTENECER A EUROPA Y HABER GANADO AL MENOS UN PARTIDO\n",
        "\n",
        "total = df_worldcup_2014.shape[0]\n",
        "cond_eu = np.sum((df_worldcup_2014['continent'] == 'europe') & (df_worldcup_2014['juegos_ganados'] >= 1))\n",
        "prob_eu_win = cond_eu/total\n",
        "print(f\"La probabilidad de que un equipo pertenezca a Europa y que haya ganado a lo menos un partido es de: {prob_eu_win} %\")\n",
        "\n"
      ],
      "metadata": {
        "colab": {
          "base_uri": "https://localhost:8080/"
        },
        "id": "pbWJ-kW7dSce",
        "outputId": "b5e5d6dd-9e97-40be-90fc-b2ed54ef1640"
      },
      "execution_count": null,
      "outputs": [
        {
          "output_type": "stream",
          "name": "stdout",
          "text": [
            "La probabilidad de que un equipo pertenezca a Europa y que haya ganado a lo menos un partido es de: 0.34375 %\n"
          ]
        }
      ]
    },
    {
      "cell_type": "code",
      "source": [
        "#PREGUNTA 1 LETRA T): PERTENECER A ASIA Y HABER GANADO AL MENOS UN PARTIDO\n",
        "\n",
        "total = df_worldcup_2014.shape[0]\n",
        "cond_as = np.sum((df_worldcup_2014['continent'] == 'asia') & (df_worldcup_2014['juegos_ganados'] >= 1))\n",
        "prob_as_win = cond_as/total\n",
        "print(f\"La probabilidad de que un equipo pertenezca a Asia y que haya ganado a lo menos un partido es de: {prob_as_win} %\")"
      ],
      "metadata": {
        "colab": {
          "base_uri": "https://localhost:8080/"
        },
        "id": "TeJjTvlRdV7e",
        "outputId": "c95b1831-83d4-45fb-e7ae-47c708e32c35"
      },
      "execution_count": null,
      "outputs": [
        {
          "output_type": "stream",
          "name": "stdout",
          "text": [
            "La probabilidad de que un equipo pertenezca a Asia y que haya ganado a lo menos un partido es de: 0.0 %\n"
          ]
        }
      ]
    },
    {
      "cell_type": "code",
      "source": [
        "#PREGUNTA 1 LETRA U): PERTENECER A SUDAMÉRICA Y HABER GANADO AL MENOS UN PARTIDO\n",
        "\n",
        "total = df_worldcup_2014.shape[0]\n",
        "cond_sud = np.sum((df_worldcup_2014['continent'] == 'southamerica') & (df_worldcup_2014['juegos_ganados'] >= 1))\n",
        "prob_sud_win = cond_sud/total\n",
        "print(f\"La probabilidad de que un equipo pertenezca a Sudamérica y que haya ganado a lo menos un partido es de: {prob_sud_win} %\")\n"
      ],
      "metadata": {
        "colab": {
          "base_uri": "https://localhost:8080/"
        },
        "id": "kot1fC4PdhOD",
        "outputId": "ea5ed4df-fd92-4a75-fda2-0c540618a91d"
      },
      "execution_count": null,
      "outputs": [
        {
          "output_type": "stream",
          "name": "stdout",
          "text": [
            "La probabilidad de que un equipo pertenezca a Sudamérica y que haya ganado a lo menos un partido es de: 0.1875 %\n"
          ]
        }
      ]
    },
    {
      "cell_type": "code",
      "source": [
        "#PREGUNTA 1 LETRA V): PERTENECER A NORTEAMÉRICA Y HABER GANADO AL MENOS UN PARTIDO\n",
        "\n",
        "total = df_worldcup_2014.shape[0]\n",
        "cond_nort = np.sum((df_worldcup_2014['continent'] == 'northamerica') & (df_worldcup_2014['juegos_ganados'] >= 1))\n",
        "prob_nort_win = cond_nort/total\n",
        "print(f\"La probabilidad de que un equipo pertenezca a Norteamérica y que haya ganado a lo menos un partido es de: {prob_nort_win} %\")"
      ],
      "metadata": {
        "colab": {
          "base_uri": "https://localhost:8080/"
        },
        "id": "1jfq5tKgdrQg",
        "outputId": "cbaf7c1d-3fbd-4cca-f71a-d5a2ff8852e1"
      },
      "execution_count": null,
      "outputs": [
        {
          "output_type": "stream",
          "name": "stdout",
          "text": [
            "La probabilidad de que un equipo pertenezca a Norteamérica y que haya ganado a lo menos un partido es de: 0.09375 %\n"
          ]
        }
      ]
    },
    {
      "cell_type": "code",
      "source": [
        "#PREGUNTA 1 LETRA R): HABER GANADO AL MENOS UN PARTIDO Y CLASIFICAR A SEGUNDA RONDA\n",
        "\n",
        "total = df_worldcup_2014.shape[0]\n",
        "condicion = np.sum((df_worldcup_2014['juegos_ganados'] >= 1) & (df_worldcup_2014['clasificado'] >= 1))\n",
        "prob = condicion/total\n",
        "print(f\"La probabilidad de haber ganado a lo menos un partido y clasificar a segunda ronda es de: {prob} %\")\n"
      ],
      "metadata": {
        "colab": {
          "base_uri": "https://localhost:8080/"
        },
        "id": "rdEkykCvdxdn",
        "outputId": "9b4be0cd-645e-423a-838e-1169e706518d"
      },
      "execution_count": null,
      "outputs": [
        {
          "output_type": "stream",
          "name": "stdout",
          "text": [
            "La probabilidad de haber ganado a lo menos un partido y clasificar a segunda ronda es de: 0.5 %\n"
          ]
        }
      ]
    },
    {
      "cell_type": "markdown",
      "source": [
        "# **CALCULAR LAS SIGUIENTES PROBABILIDADES SIN REALIZAR CONTEOS Y CON LAS PROBABILIDADES CALCULADAS PREVIAMENTE**\n",
        "\n",
        "\n",
        "\n",
        "---\n",
        "\n"
      ],
      "metadata": {
        "id": "jenUhEU7ompX"
      }
    },
    {
      "cell_type": "code",
      "source": [
        "#PREGUNTA 2 LETRA A): PERTENECER A EUROPA, SI SE SABE QUE CLASIFICÓ\n",
        "\n",
        "case_1 = prob_eu_2                        #Probabilidad de pertenecer a Europa y haber clasificado.\n",
        "case_2 = prob_pert_eu                     #Probabilidad de un equipo de pertenecer a Europa.\n",
        "pa_b = prob_eu_2 /prob_pert_eu            #División de ambas variables.\n",
        "print(f'La probabilidad de que un equipo pertenezca a Europa, si se sabe que clasificó es de: {pa_b} %')\n"
      ],
      "metadata": {
        "colab": {
          "base_uri": "https://localhost:8080/"
        },
        "id": "wg7-nmEAoC4b",
        "outputId": "e93f0468-cb0a-4eca-8136-5f4f78d9a05c"
      },
      "execution_count": null,
      "outputs": [
        {
          "output_type": "stream",
          "name": "stdout",
          "text": [
            "La probabilidad de que un equipo pertenezca a Europa, si se sabe que clasificó es de: 0.46153846153846156 %\n"
          ]
        }
      ]
    },
    {
      "cell_type": "code",
      "source": [
        "#PREGUNTA 2 LETRA B): PERTENECER A SUDAMÉRICA, SI SE SABE QUE CLASIFICÓ\n",
        "\n",
        "case__1 = sud_2                   #Probabilidad de pertenecer a Sudamérica y haber clasificado.\n",
        "case__2 = prob_pert_south               #Probabilidad de equipos de distintos continentes que clasificaron a segunda ronda.\n",
        "clasific_sud = case__1 / case__2          #División de ambas variables.\n",
        "print(f'La probabilidad de que un equipo pertenezca a Sudamérica, si se sabe que clasificó es de: {clasific_sud}')\n",
        "\n"
      ],
      "metadata": {
        "colab": {
          "base_uri": "https://localhost:8080/"
        },
        "id": "UFj-rxrFpGP-",
        "outputId": "991918d7-9c8e-4d4c-dcd2-64b29ad9c285"
      },
      "execution_count": null,
      "outputs": [
        {
          "output_type": "stream",
          "name": "stdout",
          "text": [
            "La probabilidad de que un equipo pertenezca a Sudamérica, si se sabe que clasificó es de: 0.8333333333333334\n"
          ]
        }
      ]
    },
    {
      "cell_type": "code",
      "source": [
        "#PREGUNTA 2 LETRA C): PERTENECER A ÁFRICA, SI SE SABE QUE GANÓ AL MENOS UN PARTIDO\n",
        "\n",
        "probabilidad_a_b = prob_af_win                   #Probabilidad de pertenecer a África de ganar a lo menos un partido.\n",
        "prob_b = prob_pert_af                           #Probabilidad de equipos de distintos continentes de ganar a lo menos un partido.\n",
        "probabilidad_a_b = probabilidad_a_b/prob_b       #División de ambas variables.\n",
        "print(f'La probabilidad de que un equipo pertenezca a África, si se sabe que ganó al menos un partido es de: {probabilidad_a_b}%')\n"
      ],
      "metadata": {
        "id": "nuF4MIntpGMA",
        "colab": {
          "base_uri": "https://localhost:8080/"
        },
        "outputId": "3d4dc0ae-4a40-4332-c357-129aeb721099"
      },
      "execution_count": null,
      "outputs": [
        {
          "output_type": "stream",
          "name": "stdout",
          "text": [
            "La probabilidad de que un equipo pertenezca a África, si se sabe que ganó al menos un partido es de: 0.6%\n"
          ]
        }
      ]
    },
    {
      "cell_type": "code",
      "source": [
        "#PREGUNTA 2 LETRA D): HABER GANADO AL MENOS UN PARTIDO, SI SE SABE QUE SE CLASIFICÓ\n",
        "\n",
        "a_b_clas = prob_clas                        #Probabilidad de un equipo de haber clasificado.\n",
        "b_win = prob_win                            #Probabilidad de haber ganado a lo menos un partido.\n",
        "prob_ab = a_b_clas/b_win                    #División de ambas probabilidades.\n",
        "print(f'La probabilidad de que un equipo gane al menos un partido  y que haya clasificado a segunda ronda es de: {prob_ab} %')\n"
      ],
      "metadata": {
        "id": "9_klSToNpGH1",
        "colab": {
          "base_uri": "https://localhost:8080/"
        },
        "outputId": "4e29f9fb-9712-468a-861d-5a55a4ef0609"
      },
      "execution_count": null,
      "outputs": [
        {
          "output_type": "stream",
          "name": "stdout",
          "text": [
            "La probabilidad de que un equipo gane al menos un partido  y que haya clasificado a segunda ronda es de: 0.6956521739130435 %\n"
          ]
        }
      ]
    },
    {
      "cell_type": "code",
      "source": [
        "#PREGUNTA 2 LETRA E): HABER GANADO AL MENOS UN PARTIDO, SI SE SABE QUE PERTENECE A NORTEAMÉRICA\n",
        "\n",
        "p_a_b = prob_pert_nort                      #Probabilidad de pertenecer a Norteamérica.\n",
        "p_b = prob_win                              #Probabilidd de ganaar a lo menos un partido.\n",
        "prob_ayb = p_a_b / p_b                      #División de ambas variables.\n",
        "print(f'La probabilidad de haber ganado a lo menos un partido, si se sabe que el equipo pertenece a Norteamérica es de: {prob_ayb} %')\n"
      ],
      "metadata": {
        "id": "ydv8T86LpGDz",
        "colab": {
          "base_uri": "https://localhost:8080/"
        },
        "outputId": "9668ed26-19b4-45f5-ae2d-726abaf775cb"
      },
      "execution_count": null,
      "outputs": [
        {
          "output_type": "stream",
          "name": "stdout",
          "text": [
            "La probabilidad de haber ganado a lo menos un partido, si se sabe que el equipo pertenece a Norteamérica es de: 0.17391304347826086 %\n"
          ]
        }
      ]
    },
    {
      "cell_type": "code",
      "source": [
        "#PREGUNTA 2 LETRA F) NO HABER CLASIFICADO, SI SE SABE QUE PERTENECE A ÁFRICA\n",
        "\n",
        "case_1 = prob_af_win                     #Variable definida en  pregunta r) pertenecer a africa  y haber ganado 1 partido\n",
        "case_2 = prob_pert_af                    #Variable definida en a) pertenecer a áfrica\n",
        "no_clasif_nort = case_1/case_2             #División de las variables.\n",
        "print(f'Probabilidad de No haber clasificado y pertenecer a África, es de: {no_clasif_nort}')"
      ],
      "metadata": {
        "colab": {
          "base_uri": "https://localhost:8080/"
        },
        "id": "Z8Uaw6JfdiFB",
        "outputId": "bda12686-17ba-4485-ef8c-a425c06f6f0f"
      },
      "execution_count": null,
      "outputs": [
        {
          "output_type": "stream",
          "name": "stdout",
          "text": [
            "Probabilidad de No haber clasificado y pertenecer a África, es de: 0.6\n"
          ]
        }
      ]
    }
  ]
}